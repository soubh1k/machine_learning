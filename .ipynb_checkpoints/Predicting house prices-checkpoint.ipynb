{
 "cells": [
  {
   "cell_type": "markdown",
   "metadata": {},
   "source": [
    "#Fire up graphlab create"
   ]
  },
  {
   "cell_type": "code",
   "execution_count": 1,
   "metadata": {
    "collapsed": true
   },
   "outputs": [],
   "source": [
    "import graphlab"
   ]
  },
  {
   "cell_type": "markdown",
   "metadata": {},
   "source": [
    "#Load some house sales data\n",
    "\n",
    "Dataset is from house sales in King County, the region where the city of Seattle, WA is located."
   ]
  },
  {
   "cell_type": "code",
   "execution_count": 2,
   "metadata": {
    "collapsed": false
   },
   "outputs": [
    {
     "name": "stdout",
     "output_type": "stream",
     "text": [
      "This non-commercial license of GraphLab Create for academic use is assigned to soubhik.dd2015@cs.iiests.ac.in and will expire on August 22, 2017.\n"
     ]
    },
    {
     "name": "stderr",
     "output_type": "stream",
     "text": [
      "[INFO] graphlab.cython.cy_server: GraphLab Create v2.1 started. Logging: C:\\Users\\soubhik\\AppData\\Local\\Temp\\graphlab_server_1473340581.log.0\n"
     ]
    }
   ],
   "source": [
    "sales = graphlab.SFrame('home_data.gl/')"
   ]
  },
  {
   "cell_type": "code",
   "execution_count": 3,
   "metadata": {
    "collapsed": false
   },
   "outputs": [
    {
     "data": {
      "text/html": [
       "<div style=\"max-height:1000px;max-width:1500px;overflow:auto;\"><table frame=\"box\" rules=\"cols\">\n",
       "    <tr>\n",
       "        <th style=\"padding-left: 1em; padding-right: 1em; text-align: center\">id</th>\n",
       "        <th style=\"padding-left: 1em; padding-right: 1em; text-align: center\">date</th>\n",
       "        <th style=\"padding-left: 1em; padding-right: 1em; text-align: center\">price</th>\n",
       "        <th style=\"padding-left: 1em; padding-right: 1em; text-align: center\">bedrooms</th>\n",
       "        <th style=\"padding-left: 1em; padding-right: 1em; text-align: center\">bathrooms</th>\n",
       "        <th style=\"padding-left: 1em; padding-right: 1em; text-align: center\">sqft_living</th>\n",
       "        <th style=\"padding-left: 1em; padding-right: 1em; text-align: center\">sqft_lot</th>\n",
       "        <th style=\"padding-left: 1em; padding-right: 1em; text-align: center\">floors</th>\n",
       "        <th style=\"padding-left: 1em; padding-right: 1em; text-align: center\">waterfront</th>\n",
       "    </tr>\n",
       "    <tr>\n",
       "        <td style=\"padding-left: 1em; padding-right: 1em; text-align: center; vertical-align: top\">7129300520</td>\n",
       "        <td style=\"padding-left: 1em; padding-right: 1em; text-align: center; vertical-align: top\">2014-10-13 00:00:00+00:00</td>\n",
       "        <td style=\"padding-left: 1em; padding-right: 1em; text-align: center; vertical-align: top\">221900</td>\n",
       "        <td style=\"padding-left: 1em; padding-right: 1em; text-align: center; vertical-align: top\">3</td>\n",
       "        <td style=\"padding-left: 1em; padding-right: 1em; text-align: center; vertical-align: top\">1</td>\n",
       "        <td style=\"padding-left: 1em; padding-right: 1em; text-align: center; vertical-align: top\">1180</td>\n",
       "        <td style=\"padding-left: 1em; padding-right: 1em; text-align: center; vertical-align: top\">5650</td>\n",
       "        <td style=\"padding-left: 1em; padding-right: 1em; text-align: center; vertical-align: top\">1</td>\n",
       "        <td style=\"padding-left: 1em; padding-right: 1em; text-align: center; vertical-align: top\">0</td>\n",
       "    </tr>\n",
       "    <tr>\n",
       "        <td style=\"padding-left: 1em; padding-right: 1em; text-align: center; vertical-align: top\">6414100192</td>\n",
       "        <td style=\"padding-left: 1em; padding-right: 1em; text-align: center; vertical-align: top\">2014-12-09 00:00:00+00:00</td>\n",
       "        <td style=\"padding-left: 1em; padding-right: 1em; text-align: center; vertical-align: top\">538000</td>\n",
       "        <td style=\"padding-left: 1em; padding-right: 1em; text-align: center; vertical-align: top\">3</td>\n",
       "        <td style=\"padding-left: 1em; padding-right: 1em; text-align: center; vertical-align: top\">2.25</td>\n",
       "        <td style=\"padding-left: 1em; padding-right: 1em; text-align: center; vertical-align: top\">2570</td>\n",
       "        <td style=\"padding-left: 1em; padding-right: 1em; text-align: center; vertical-align: top\">7242</td>\n",
       "        <td style=\"padding-left: 1em; padding-right: 1em; text-align: center; vertical-align: top\">2</td>\n",
       "        <td style=\"padding-left: 1em; padding-right: 1em; text-align: center; vertical-align: top\">0</td>\n",
       "    </tr>\n",
       "    <tr>\n",
       "        <td style=\"padding-left: 1em; padding-right: 1em; text-align: center; vertical-align: top\">5631500400</td>\n",
       "        <td style=\"padding-left: 1em; padding-right: 1em; text-align: center; vertical-align: top\">2015-02-25 00:00:00+00:00</td>\n",
       "        <td style=\"padding-left: 1em; padding-right: 1em; text-align: center; vertical-align: top\">180000</td>\n",
       "        <td style=\"padding-left: 1em; padding-right: 1em; text-align: center; vertical-align: top\">2</td>\n",
       "        <td style=\"padding-left: 1em; padding-right: 1em; text-align: center; vertical-align: top\">1</td>\n",
       "        <td style=\"padding-left: 1em; padding-right: 1em; text-align: center; vertical-align: top\">770</td>\n",
       "        <td style=\"padding-left: 1em; padding-right: 1em; text-align: center; vertical-align: top\">10000</td>\n",
       "        <td style=\"padding-left: 1em; padding-right: 1em; text-align: center; vertical-align: top\">1</td>\n",
       "        <td style=\"padding-left: 1em; padding-right: 1em; text-align: center; vertical-align: top\">0</td>\n",
       "    </tr>\n",
       "    <tr>\n",
       "        <td style=\"padding-left: 1em; padding-right: 1em; text-align: center; vertical-align: top\">2487200875</td>\n",
       "        <td style=\"padding-left: 1em; padding-right: 1em; text-align: center; vertical-align: top\">2014-12-09 00:00:00+00:00</td>\n",
       "        <td style=\"padding-left: 1em; padding-right: 1em; text-align: center; vertical-align: top\">604000</td>\n",
       "        <td style=\"padding-left: 1em; padding-right: 1em; text-align: center; vertical-align: top\">4</td>\n",
       "        <td style=\"padding-left: 1em; padding-right: 1em; text-align: center; vertical-align: top\">3</td>\n",
       "        <td style=\"padding-left: 1em; padding-right: 1em; text-align: center; vertical-align: top\">1960</td>\n",
       "        <td style=\"padding-left: 1em; padding-right: 1em; text-align: center; vertical-align: top\">5000</td>\n",
       "        <td style=\"padding-left: 1em; padding-right: 1em; text-align: center; vertical-align: top\">1</td>\n",
       "        <td style=\"padding-left: 1em; padding-right: 1em; text-align: center; vertical-align: top\">0</td>\n",
       "    </tr>\n",
       "    <tr>\n",
       "        <td style=\"padding-left: 1em; padding-right: 1em; text-align: center; vertical-align: top\">1954400510</td>\n",
       "        <td style=\"padding-left: 1em; padding-right: 1em; text-align: center; vertical-align: top\">2015-02-18 00:00:00+00:00</td>\n",
       "        <td style=\"padding-left: 1em; padding-right: 1em; text-align: center; vertical-align: top\">510000</td>\n",
       "        <td style=\"padding-left: 1em; padding-right: 1em; text-align: center; vertical-align: top\">3</td>\n",
       "        <td style=\"padding-left: 1em; padding-right: 1em; text-align: center; vertical-align: top\">2</td>\n",
       "        <td style=\"padding-left: 1em; padding-right: 1em; text-align: center; vertical-align: top\">1680</td>\n",
       "        <td style=\"padding-left: 1em; padding-right: 1em; text-align: center; vertical-align: top\">8080</td>\n",
       "        <td style=\"padding-left: 1em; padding-right: 1em; text-align: center; vertical-align: top\">1</td>\n",
       "        <td style=\"padding-left: 1em; padding-right: 1em; text-align: center; vertical-align: top\">0</td>\n",
       "    </tr>\n",
       "    <tr>\n",
       "        <td style=\"padding-left: 1em; padding-right: 1em; text-align: center; vertical-align: top\">7237550310</td>\n",
       "        <td style=\"padding-left: 1em; padding-right: 1em; text-align: center; vertical-align: top\">2014-05-12 00:00:00+00:00</td>\n",
       "        <td style=\"padding-left: 1em; padding-right: 1em; text-align: center; vertical-align: top\">1225000</td>\n",
       "        <td style=\"padding-left: 1em; padding-right: 1em; text-align: center; vertical-align: top\">4</td>\n",
       "        <td style=\"padding-left: 1em; padding-right: 1em; text-align: center; vertical-align: top\">4.5</td>\n",
       "        <td style=\"padding-left: 1em; padding-right: 1em; text-align: center; vertical-align: top\">5420</td>\n",
       "        <td style=\"padding-left: 1em; padding-right: 1em; text-align: center; vertical-align: top\">101930</td>\n",
       "        <td style=\"padding-left: 1em; padding-right: 1em; text-align: center; vertical-align: top\">1</td>\n",
       "        <td style=\"padding-left: 1em; padding-right: 1em; text-align: center; vertical-align: top\">0</td>\n",
       "    </tr>\n",
       "    <tr>\n",
       "        <td style=\"padding-left: 1em; padding-right: 1em; text-align: center; vertical-align: top\">1321400060</td>\n",
       "        <td style=\"padding-left: 1em; padding-right: 1em; text-align: center; vertical-align: top\">2014-06-27 00:00:00+00:00</td>\n",
       "        <td style=\"padding-left: 1em; padding-right: 1em; text-align: center; vertical-align: top\">257500</td>\n",
       "        <td style=\"padding-left: 1em; padding-right: 1em; text-align: center; vertical-align: top\">3</td>\n",
       "        <td style=\"padding-left: 1em; padding-right: 1em; text-align: center; vertical-align: top\">2.25</td>\n",
       "        <td style=\"padding-left: 1em; padding-right: 1em; text-align: center; vertical-align: top\">1715</td>\n",
       "        <td style=\"padding-left: 1em; padding-right: 1em; text-align: center; vertical-align: top\">6819</td>\n",
       "        <td style=\"padding-left: 1em; padding-right: 1em; text-align: center; vertical-align: top\">2</td>\n",
       "        <td style=\"padding-left: 1em; padding-right: 1em; text-align: center; vertical-align: top\">0</td>\n",
       "    </tr>\n",
       "    <tr>\n",
       "        <td style=\"padding-left: 1em; padding-right: 1em; text-align: center; vertical-align: top\">2008000270</td>\n",
       "        <td style=\"padding-left: 1em; padding-right: 1em; text-align: center; vertical-align: top\">2015-01-15 00:00:00+00:00</td>\n",
       "        <td style=\"padding-left: 1em; padding-right: 1em; text-align: center; vertical-align: top\">291850</td>\n",
       "        <td style=\"padding-left: 1em; padding-right: 1em; text-align: center; vertical-align: top\">3</td>\n",
       "        <td style=\"padding-left: 1em; padding-right: 1em; text-align: center; vertical-align: top\">1.5</td>\n",
       "        <td style=\"padding-left: 1em; padding-right: 1em; text-align: center; vertical-align: top\">1060</td>\n",
       "        <td style=\"padding-left: 1em; padding-right: 1em; text-align: center; vertical-align: top\">9711</td>\n",
       "        <td style=\"padding-left: 1em; padding-right: 1em; text-align: center; vertical-align: top\">1</td>\n",
       "        <td style=\"padding-left: 1em; padding-right: 1em; text-align: center; vertical-align: top\">0</td>\n",
       "    </tr>\n",
       "    <tr>\n",
       "        <td style=\"padding-left: 1em; padding-right: 1em; text-align: center; vertical-align: top\">2414600126</td>\n",
       "        <td style=\"padding-left: 1em; padding-right: 1em; text-align: center; vertical-align: top\">2015-04-15 00:00:00+00:00</td>\n",
       "        <td style=\"padding-left: 1em; padding-right: 1em; text-align: center; vertical-align: top\">229500</td>\n",
       "        <td style=\"padding-left: 1em; padding-right: 1em; text-align: center; vertical-align: top\">3</td>\n",
       "        <td style=\"padding-left: 1em; padding-right: 1em; text-align: center; vertical-align: top\">1</td>\n",
       "        <td style=\"padding-left: 1em; padding-right: 1em; text-align: center; vertical-align: top\">1780</td>\n",
       "        <td style=\"padding-left: 1em; padding-right: 1em; text-align: center; vertical-align: top\">7470</td>\n",
       "        <td style=\"padding-left: 1em; padding-right: 1em; text-align: center; vertical-align: top\">1</td>\n",
       "        <td style=\"padding-left: 1em; padding-right: 1em; text-align: center; vertical-align: top\">0</td>\n",
       "    </tr>\n",
       "    <tr>\n",
       "        <td style=\"padding-left: 1em; padding-right: 1em; text-align: center; vertical-align: top\">3793500160</td>\n",
       "        <td style=\"padding-left: 1em; padding-right: 1em; text-align: center; vertical-align: top\">2015-03-12 00:00:00+00:00</td>\n",
       "        <td style=\"padding-left: 1em; padding-right: 1em; text-align: center; vertical-align: top\">323000</td>\n",
       "        <td style=\"padding-left: 1em; padding-right: 1em; text-align: center; vertical-align: top\">3</td>\n",
       "        <td style=\"padding-left: 1em; padding-right: 1em; text-align: center; vertical-align: top\">2.5</td>\n",
       "        <td style=\"padding-left: 1em; padding-right: 1em; text-align: center; vertical-align: top\">1890</td>\n",
       "        <td style=\"padding-left: 1em; padding-right: 1em; text-align: center; vertical-align: top\">6560</td>\n",
       "        <td style=\"padding-left: 1em; padding-right: 1em; text-align: center; vertical-align: top\">2</td>\n",
       "        <td style=\"padding-left: 1em; padding-right: 1em; text-align: center; vertical-align: top\">0</td>\n",
       "    </tr>\n",
       "</table>\n",
       "<table frame=\"box\" rules=\"cols\">\n",
       "    <tr>\n",
       "        <th style=\"padding-left: 1em; padding-right: 1em; text-align: center\">view</th>\n",
       "        <th style=\"padding-left: 1em; padding-right: 1em; text-align: center\">condition</th>\n",
       "        <th style=\"padding-left: 1em; padding-right: 1em; text-align: center\">grade</th>\n",
       "        <th style=\"padding-left: 1em; padding-right: 1em; text-align: center\">sqft_above</th>\n",
       "        <th style=\"padding-left: 1em; padding-right: 1em; text-align: center\">sqft_basement</th>\n",
       "        <th style=\"padding-left: 1em; padding-right: 1em; text-align: center\">yr_built</th>\n",
       "        <th style=\"padding-left: 1em; padding-right: 1em; text-align: center\">yr_renovated</th>\n",
       "        <th style=\"padding-left: 1em; padding-right: 1em; text-align: center\">zipcode</th>\n",
       "        <th style=\"padding-left: 1em; padding-right: 1em; text-align: center\">lat</th>\n",
       "    </tr>\n",
       "    <tr>\n",
       "        <td style=\"padding-left: 1em; padding-right: 1em; text-align: center; vertical-align: top\">0</td>\n",
       "        <td style=\"padding-left: 1em; padding-right: 1em; text-align: center; vertical-align: top\">3</td>\n",
       "        <td style=\"padding-left: 1em; padding-right: 1em; text-align: center; vertical-align: top\">7</td>\n",
       "        <td style=\"padding-left: 1em; padding-right: 1em; text-align: center; vertical-align: top\">1180</td>\n",
       "        <td style=\"padding-left: 1em; padding-right: 1em; text-align: center; vertical-align: top\">0</td>\n",
       "        <td style=\"padding-left: 1em; padding-right: 1em; text-align: center; vertical-align: top\">1955</td>\n",
       "        <td style=\"padding-left: 1em; padding-right: 1em; text-align: center; vertical-align: top\">0</td>\n",
       "        <td style=\"padding-left: 1em; padding-right: 1em; text-align: center; vertical-align: top\">98178</td>\n",
       "        <td style=\"padding-left: 1em; padding-right: 1em; text-align: center; vertical-align: top\">47.51123398</td>\n",
       "    </tr>\n",
       "    <tr>\n",
       "        <td style=\"padding-left: 1em; padding-right: 1em; text-align: center; vertical-align: top\">0</td>\n",
       "        <td style=\"padding-left: 1em; padding-right: 1em; text-align: center; vertical-align: top\">3</td>\n",
       "        <td style=\"padding-left: 1em; padding-right: 1em; text-align: center; vertical-align: top\">7</td>\n",
       "        <td style=\"padding-left: 1em; padding-right: 1em; text-align: center; vertical-align: top\">2170</td>\n",
       "        <td style=\"padding-left: 1em; padding-right: 1em; text-align: center; vertical-align: top\">400</td>\n",
       "        <td style=\"padding-left: 1em; padding-right: 1em; text-align: center; vertical-align: top\">1951</td>\n",
       "        <td style=\"padding-left: 1em; padding-right: 1em; text-align: center; vertical-align: top\">1991</td>\n",
       "        <td style=\"padding-left: 1em; padding-right: 1em; text-align: center; vertical-align: top\">98125</td>\n",
       "        <td style=\"padding-left: 1em; padding-right: 1em; text-align: center; vertical-align: top\">47.72102274</td>\n",
       "    </tr>\n",
       "    <tr>\n",
       "        <td style=\"padding-left: 1em; padding-right: 1em; text-align: center; vertical-align: top\">0</td>\n",
       "        <td style=\"padding-left: 1em; padding-right: 1em; text-align: center; vertical-align: top\">3</td>\n",
       "        <td style=\"padding-left: 1em; padding-right: 1em; text-align: center; vertical-align: top\">6</td>\n",
       "        <td style=\"padding-left: 1em; padding-right: 1em; text-align: center; vertical-align: top\">770</td>\n",
       "        <td style=\"padding-left: 1em; padding-right: 1em; text-align: center; vertical-align: top\">0</td>\n",
       "        <td style=\"padding-left: 1em; padding-right: 1em; text-align: center; vertical-align: top\">1933</td>\n",
       "        <td style=\"padding-left: 1em; padding-right: 1em; text-align: center; vertical-align: top\">0</td>\n",
       "        <td style=\"padding-left: 1em; padding-right: 1em; text-align: center; vertical-align: top\">98028</td>\n",
       "        <td style=\"padding-left: 1em; padding-right: 1em; text-align: center; vertical-align: top\">47.73792661</td>\n",
       "    </tr>\n",
       "    <tr>\n",
       "        <td style=\"padding-left: 1em; padding-right: 1em; text-align: center; vertical-align: top\">0</td>\n",
       "        <td style=\"padding-left: 1em; padding-right: 1em; text-align: center; vertical-align: top\">5</td>\n",
       "        <td style=\"padding-left: 1em; padding-right: 1em; text-align: center; vertical-align: top\">7</td>\n",
       "        <td style=\"padding-left: 1em; padding-right: 1em; text-align: center; vertical-align: top\">1050</td>\n",
       "        <td style=\"padding-left: 1em; padding-right: 1em; text-align: center; vertical-align: top\">910</td>\n",
       "        <td style=\"padding-left: 1em; padding-right: 1em; text-align: center; vertical-align: top\">1965</td>\n",
       "        <td style=\"padding-left: 1em; padding-right: 1em; text-align: center; vertical-align: top\">0</td>\n",
       "        <td style=\"padding-left: 1em; padding-right: 1em; text-align: center; vertical-align: top\">98136</td>\n",
       "        <td style=\"padding-left: 1em; padding-right: 1em; text-align: center; vertical-align: top\">47.52082</td>\n",
       "    </tr>\n",
       "    <tr>\n",
       "        <td style=\"padding-left: 1em; padding-right: 1em; text-align: center; vertical-align: top\">0</td>\n",
       "        <td style=\"padding-left: 1em; padding-right: 1em; text-align: center; vertical-align: top\">3</td>\n",
       "        <td style=\"padding-left: 1em; padding-right: 1em; text-align: center; vertical-align: top\">8</td>\n",
       "        <td style=\"padding-left: 1em; padding-right: 1em; text-align: center; vertical-align: top\">1680</td>\n",
       "        <td style=\"padding-left: 1em; padding-right: 1em; text-align: center; vertical-align: top\">0</td>\n",
       "        <td style=\"padding-left: 1em; padding-right: 1em; text-align: center; vertical-align: top\">1987</td>\n",
       "        <td style=\"padding-left: 1em; padding-right: 1em; text-align: center; vertical-align: top\">0</td>\n",
       "        <td style=\"padding-left: 1em; padding-right: 1em; text-align: center; vertical-align: top\">98074</td>\n",
       "        <td style=\"padding-left: 1em; padding-right: 1em; text-align: center; vertical-align: top\">47.61681228</td>\n",
       "    </tr>\n",
       "    <tr>\n",
       "        <td style=\"padding-left: 1em; padding-right: 1em; text-align: center; vertical-align: top\">0</td>\n",
       "        <td style=\"padding-left: 1em; padding-right: 1em; text-align: center; vertical-align: top\">3</td>\n",
       "        <td style=\"padding-left: 1em; padding-right: 1em; text-align: center; vertical-align: top\">11</td>\n",
       "        <td style=\"padding-left: 1em; padding-right: 1em; text-align: center; vertical-align: top\">3890</td>\n",
       "        <td style=\"padding-left: 1em; padding-right: 1em; text-align: center; vertical-align: top\">1530</td>\n",
       "        <td style=\"padding-left: 1em; padding-right: 1em; text-align: center; vertical-align: top\">2001</td>\n",
       "        <td style=\"padding-left: 1em; padding-right: 1em; text-align: center; vertical-align: top\">0</td>\n",
       "        <td style=\"padding-left: 1em; padding-right: 1em; text-align: center; vertical-align: top\">98053</td>\n",
       "        <td style=\"padding-left: 1em; padding-right: 1em; text-align: center; vertical-align: top\">47.65611835</td>\n",
       "    </tr>\n",
       "    <tr>\n",
       "        <td style=\"padding-left: 1em; padding-right: 1em; text-align: center; vertical-align: top\">0</td>\n",
       "        <td style=\"padding-left: 1em; padding-right: 1em; text-align: center; vertical-align: top\">3</td>\n",
       "        <td style=\"padding-left: 1em; padding-right: 1em; text-align: center; vertical-align: top\">7</td>\n",
       "        <td style=\"padding-left: 1em; padding-right: 1em; text-align: center; vertical-align: top\">1715</td>\n",
       "        <td style=\"padding-left: 1em; padding-right: 1em; text-align: center; vertical-align: top\">0</td>\n",
       "        <td style=\"padding-left: 1em; padding-right: 1em; text-align: center; vertical-align: top\">1995</td>\n",
       "        <td style=\"padding-left: 1em; padding-right: 1em; text-align: center; vertical-align: top\">0</td>\n",
       "        <td style=\"padding-left: 1em; padding-right: 1em; text-align: center; vertical-align: top\">98003</td>\n",
       "        <td style=\"padding-left: 1em; padding-right: 1em; text-align: center; vertical-align: top\">47.30972002</td>\n",
       "    </tr>\n",
       "    <tr>\n",
       "        <td style=\"padding-left: 1em; padding-right: 1em; text-align: center; vertical-align: top\">0</td>\n",
       "        <td style=\"padding-left: 1em; padding-right: 1em; text-align: center; vertical-align: top\">3</td>\n",
       "        <td style=\"padding-left: 1em; padding-right: 1em; text-align: center; vertical-align: top\">7</td>\n",
       "        <td style=\"padding-left: 1em; padding-right: 1em; text-align: center; vertical-align: top\">1060</td>\n",
       "        <td style=\"padding-left: 1em; padding-right: 1em; text-align: center; vertical-align: top\">0</td>\n",
       "        <td style=\"padding-left: 1em; padding-right: 1em; text-align: center; vertical-align: top\">1963</td>\n",
       "        <td style=\"padding-left: 1em; padding-right: 1em; text-align: center; vertical-align: top\">0</td>\n",
       "        <td style=\"padding-left: 1em; padding-right: 1em; text-align: center; vertical-align: top\">98198</td>\n",
       "        <td style=\"padding-left: 1em; padding-right: 1em; text-align: center; vertical-align: top\">47.40949984</td>\n",
       "    </tr>\n",
       "    <tr>\n",
       "        <td style=\"padding-left: 1em; padding-right: 1em; text-align: center; vertical-align: top\">0</td>\n",
       "        <td style=\"padding-left: 1em; padding-right: 1em; text-align: center; vertical-align: top\">3</td>\n",
       "        <td style=\"padding-left: 1em; padding-right: 1em; text-align: center; vertical-align: top\">7</td>\n",
       "        <td style=\"padding-left: 1em; padding-right: 1em; text-align: center; vertical-align: top\">1050</td>\n",
       "        <td style=\"padding-left: 1em; padding-right: 1em; text-align: center; vertical-align: top\">730</td>\n",
       "        <td style=\"padding-left: 1em; padding-right: 1em; text-align: center; vertical-align: top\">1960</td>\n",
       "        <td style=\"padding-left: 1em; padding-right: 1em; text-align: center; vertical-align: top\">0</td>\n",
       "        <td style=\"padding-left: 1em; padding-right: 1em; text-align: center; vertical-align: top\">98146</td>\n",
       "        <td style=\"padding-left: 1em; padding-right: 1em; text-align: center; vertical-align: top\">47.51229381</td>\n",
       "    </tr>\n",
       "    <tr>\n",
       "        <td style=\"padding-left: 1em; padding-right: 1em; text-align: center; vertical-align: top\">0</td>\n",
       "        <td style=\"padding-left: 1em; padding-right: 1em; text-align: center; vertical-align: top\">3</td>\n",
       "        <td style=\"padding-left: 1em; padding-right: 1em; text-align: center; vertical-align: top\">7</td>\n",
       "        <td style=\"padding-left: 1em; padding-right: 1em; text-align: center; vertical-align: top\">1890</td>\n",
       "        <td style=\"padding-left: 1em; padding-right: 1em; text-align: center; vertical-align: top\">0</td>\n",
       "        <td style=\"padding-left: 1em; padding-right: 1em; text-align: center; vertical-align: top\">2003</td>\n",
       "        <td style=\"padding-left: 1em; padding-right: 1em; text-align: center; vertical-align: top\">0</td>\n",
       "        <td style=\"padding-left: 1em; padding-right: 1em; text-align: center; vertical-align: top\">98038</td>\n",
       "        <td style=\"padding-left: 1em; padding-right: 1em; text-align: center; vertical-align: top\">47.36840673</td>\n",
       "    </tr>\n",
       "</table>\n",
       "<table frame=\"box\" rules=\"cols\">\n",
       "    <tr>\n",
       "        <th style=\"padding-left: 1em; padding-right: 1em; text-align: center\">long</th>\n",
       "        <th style=\"padding-left: 1em; padding-right: 1em; text-align: center\">sqft_living15</th>\n",
       "        <th style=\"padding-left: 1em; padding-right: 1em; text-align: center\">sqft_lot15</th>\n",
       "    </tr>\n",
       "    <tr>\n",
       "        <td style=\"padding-left: 1em; padding-right: 1em; text-align: center; vertical-align: top\">-122.25677536</td>\n",
       "        <td style=\"padding-left: 1em; padding-right: 1em; text-align: center; vertical-align: top\">1340.0</td>\n",
       "        <td style=\"padding-left: 1em; padding-right: 1em; text-align: center; vertical-align: top\">5650.0</td>\n",
       "    </tr>\n",
       "    <tr>\n",
       "        <td style=\"padding-left: 1em; padding-right: 1em; text-align: center; vertical-align: top\">-122.3188624</td>\n",
       "        <td style=\"padding-left: 1em; padding-right: 1em; text-align: center; vertical-align: top\">1690.0</td>\n",
       "        <td style=\"padding-left: 1em; padding-right: 1em; text-align: center; vertical-align: top\">7639.0</td>\n",
       "    </tr>\n",
       "    <tr>\n",
       "        <td style=\"padding-left: 1em; padding-right: 1em; text-align: center; vertical-align: top\">-122.23319601</td>\n",
       "        <td style=\"padding-left: 1em; padding-right: 1em; text-align: center; vertical-align: top\">2720.0</td>\n",
       "        <td style=\"padding-left: 1em; padding-right: 1em; text-align: center; vertical-align: top\">8062.0</td>\n",
       "    </tr>\n",
       "    <tr>\n",
       "        <td style=\"padding-left: 1em; padding-right: 1em; text-align: center; vertical-align: top\">-122.39318505</td>\n",
       "        <td style=\"padding-left: 1em; padding-right: 1em; text-align: center; vertical-align: top\">1360.0</td>\n",
       "        <td style=\"padding-left: 1em; padding-right: 1em; text-align: center; vertical-align: top\">5000.0</td>\n",
       "    </tr>\n",
       "    <tr>\n",
       "        <td style=\"padding-left: 1em; padding-right: 1em; text-align: center; vertical-align: top\">-122.04490059</td>\n",
       "        <td style=\"padding-left: 1em; padding-right: 1em; text-align: center; vertical-align: top\">1800.0</td>\n",
       "        <td style=\"padding-left: 1em; padding-right: 1em; text-align: center; vertical-align: top\">7503.0</td>\n",
       "    </tr>\n",
       "    <tr>\n",
       "        <td style=\"padding-left: 1em; padding-right: 1em; text-align: center; vertical-align: top\">-122.00528655</td>\n",
       "        <td style=\"padding-left: 1em; padding-right: 1em; text-align: center; vertical-align: top\">4760.0</td>\n",
       "        <td style=\"padding-left: 1em; padding-right: 1em; text-align: center; vertical-align: top\">101930.0</td>\n",
       "    </tr>\n",
       "    <tr>\n",
       "        <td style=\"padding-left: 1em; padding-right: 1em; text-align: center; vertical-align: top\">-122.32704857</td>\n",
       "        <td style=\"padding-left: 1em; padding-right: 1em; text-align: center; vertical-align: top\">2238.0</td>\n",
       "        <td style=\"padding-left: 1em; padding-right: 1em; text-align: center; vertical-align: top\">6819.0</td>\n",
       "    </tr>\n",
       "    <tr>\n",
       "        <td style=\"padding-left: 1em; padding-right: 1em; text-align: center; vertical-align: top\">-122.31457273</td>\n",
       "        <td style=\"padding-left: 1em; padding-right: 1em; text-align: center; vertical-align: top\">1650.0</td>\n",
       "        <td style=\"padding-left: 1em; padding-right: 1em; text-align: center; vertical-align: top\">9711.0</td>\n",
       "    </tr>\n",
       "    <tr>\n",
       "        <td style=\"padding-left: 1em; padding-right: 1em; text-align: center; vertical-align: top\">-122.33659507</td>\n",
       "        <td style=\"padding-left: 1em; padding-right: 1em; text-align: center; vertical-align: top\">1780.0</td>\n",
       "        <td style=\"padding-left: 1em; padding-right: 1em; text-align: center; vertical-align: top\">8113.0</td>\n",
       "    </tr>\n",
       "    <tr>\n",
       "        <td style=\"padding-left: 1em; padding-right: 1em; text-align: center; vertical-align: top\">-122.0308176</td>\n",
       "        <td style=\"padding-left: 1em; padding-right: 1em; text-align: center; vertical-align: top\">2390.0</td>\n",
       "        <td style=\"padding-left: 1em; padding-right: 1em; text-align: center; vertical-align: top\">7570.0</td>\n",
       "    </tr>\n",
       "</table>\n",
       "[21613 rows x 21 columns]<br/>Note: Only the head of the SFrame is printed.<br/>You can use print_rows(num_rows=m, num_columns=n) to print more rows and columns.\n",
       "</div>"
      ],
      "text/plain": [
       "Columns:\n",
       "\tid\tstr\n",
       "\tdate\tdatetime\n",
       "\tprice\tint\n",
       "\tbedrooms\tstr\n",
       "\tbathrooms\tstr\n",
       "\tsqft_living\tint\n",
       "\tsqft_lot\tint\n",
       "\tfloors\tstr\n",
       "\twaterfront\tint\n",
       "\tview\tint\n",
       "\tcondition\tint\n",
       "\tgrade\tint\n",
       "\tsqft_above\tint\n",
       "\tsqft_basement\tint\n",
       "\tyr_built\tint\n",
       "\tyr_renovated\tint\n",
       "\tzipcode\tstr\n",
       "\tlat\tfloat\n",
       "\tlong\tfloat\n",
       "\tsqft_living15\tfloat\n",
       "\tsqft_lot15\tfloat\n",
       "\n",
       "Rows: 21613\n",
       "\n",
       "Data:\n",
       "+------------+---------------------------+---------+----------+-----------+-------------+\n",
       "|     id     |            date           |  price  | bedrooms | bathrooms | sqft_living |\n",
       "+------------+---------------------------+---------+----------+-----------+-------------+\n",
       "| 7129300520 | 2014-10-13 00:00:00+00:00 |  221900 |    3     |     1     |     1180    |\n",
       "| 6414100192 | 2014-12-09 00:00:00+00:00 |  538000 |    3     |    2.25   |     2570    |\n",
       "| 5631500400 | 2015-02-25 00:00:00+00:00 |  180000 |    2     |     1     |     770     |\n",
       "| 2487200875 | 2014-12-09 00:00:00+00:00 |  604000 |    4     |     3     |     1960    |\n",
       "| 1954400510 | 2015-02-18 00:00:00+00:00 |  510000 |    3     |     2     |     1680    |\n",
       "| 7237550310 | 2014-05-12 00:00:00+00:00 | 1225000 |    4     |    4.5    |     5420    |\n",
       "| 1321400060 | 2014-06-27 00:00:00+00:00 |  257500 |    3     |    2.25   |     1715    |\n",
       "| 2008000270 | 2015-01-15 00:00:00+00:00 |  291850 |    3     |    1.5    |     1060    |\n",
       "| 2414600126 | 2015-04-15 00:00:00+00:00 |  229500 |    3     |     1     |     1780    |\n",
       "| 3793500160 | 2015-03-12 00:00:00+00:00 |  323000 |    3     |    2.5    |     1890    |\n",
       "+------------+---------------------------+---------+----------+-----------+-------------+\n",
       "+----------+--------+------------+------+-----------+-------+------------+---------------+\n",
       "| sqft_lot | floors | waterfront | view | condition | grade | sqft_above | sqft_basement |\n",
       "+----------+--------+------------+------+-----------+-------+------------+---------------+\n",
       "|   5650   |   1    |     0      |  0   |     3     |   7   |    1180    |       0       |\n",
       "|   7242   |   2    |     0      |  0   |     3     |   7   |    2170    |      400      |\n",
       "|  10000   |   1    |     0      |  0   |     3     |   6   |    770     |       0       |\n",
       "|   5000   |   1    |     0      |  0   |     5     |   7   |    1050    |      910      |\n",
       "|   8080   |   1    |     0      |  0   |     3     |   8   |    1680    |       0       |\n",
       "|  101930  |   1    |     0      |  0   |     3     |   11  |    3890    |      1530     |\n",
       "|   6819   |   2    |     0      |  0   |     3     |   7   |    1715    |       0       |\n",
       "|   9711   |   1    |     0      |  0   |     3     |   7   |    1060    |       0       |\n",
       "|   7470   |   1    |     0      |  0   |     3     |   7   |    1050    |      730      |\n",
       "|   6560   |   2    |     0      |  0   |     3     |   7   |    1890    |       0       |\n",
       "+----------+--------+------------+------+-----------+-------+------------+---------------+\n",
       "+----------+--------------+---------+-------------+---------------+---------------+-----+\n",
       "| yr_built | yr_renovated | zipcode |     lat     |      long     | sqft_living15 | ... |\n",
       "+----------+--------------+---------+-------------+---------------+---------------+-----+\n",
       "|   1955   |      0       |  98178  | 47.51123398 | -122.25677536 |     1340.0    | ... |\n",
       "|   1951   |     1991     |  98125  | 47.72102274 |  -122.3188624 |     1690.0    | ... |\n",
       "|   1933   |      0       |  98028  | 47.73792661 | -122.23319601 |     2720.0    | ... |\n",
       "|   1965   |      0       |  98136  |   47.52082  | -122.39318505 |     1360.0    | ... |\n",
       "|   1987   |      0       |  98074  | 47.61681228 | -122.04490059 |     1800.0    | ... |\n",
       "|   2001   |      0       |  98053  | 47.65611835 | -122.00528655 |     4760.0    | ... |\n",
       "|   1995   |      0       |  98003  | 47.30972002 | -122.32704857 |     2238.0    | ... |\n",
       "|   1963   |      0       |  98198  | 47.40949984 | -122.31457273 |     1650.0    | ... |\n",
       "|   1960   |      0       |  98146  | 47.51229381 | -122.33659507 |     1780.0    | ... |\n",
       "|   2003   |      0       |  98038  | 47.36840673 |  -122.0308176 |     2390.0    | ... |\n",
       "+----------+--------------+---------+-------------+---------------+---------------+-----+\n",
       "[21613 rows x 21 columns]\n",
       "Note: Only the head of the SFrame is printed.\n",
       "You can use print_rows(num_rows=m, num_columns=n) to print more rows and columns."
      ]
     },
     "execution_count": 3,
     "metadata": {},
     "output_type": "execute_result"
    }
   ],
   "source": [
    "sales"
   ]
  },
  {
   "cell_type": "markdown",
   "metadata": {},
   "source": [
    "#Exploring the data for housing sales "
   ]
  },
  {
   "cell_type": "markdown",
   "metadata": {},
   "source": [
    "The house price is correlated with the number of square feet of living space."
   ]
  },
  {
   "cell_type": "code",
   "execution_count": 4,
   "metadata": {
    "collapsed": false
   },
   "outputs": [
    {
     "data": {
      "application/javascript": [
       "$(\"head\").append($(\"<link/>\").attr({\n",
       "  rel:  \"stylesheet\",\n",
       "  type: \"text/css\",\n",
       "  href: \"//cdnjs.cloudflare.com/ajax/libs/font-awesome/4.1.0/css/font-awesome.min.css\"\n",
       "}));\n",
       "$(\"head\").append($(\"<link/>\").attr({\n",
       "  rel:  \"stylesheet\",\n",
       "  type: \"text/css\",\n",
       "  href: \"https://static.turi.com/products/graphlab-create/2.1/canvas/css/canvas.css\"\n",
       "}));\n",
       "\n",
       "            (function(){\n",
       "\n",
       "                var e = null;\n",
       "                if (typeof element == 'undefined') {\n",
       "                    var scripts = document.getElementsByTagName('script');\n",
       "                    var thisScriptTag = scripts[scripts.length-1];\n",
       "                    var parentDiv = thisScriptTag.parentNode;\n",
       "                    e = document.createElement('div');\n",
       "                    parentDiv.appendChild(e);\n",
       "                } else {\n",
       "                    e = element[0];\n",
       "                }\n",
       "\n",
       "                if (typeof requirejs !== 'undefined') {\n",
       "                    // disable load timeout; ipython_app.js is large and can take a while to load.\n",
       "                    requirejs.config({waitSeconds: 0});\n",
       "                }\n",
       "\n",
       "                require(['https://static.turi.com/products/graphlab-create/2.1/canvas/js/ipython_app.js'], function(IPythonApp){\n",
       "                    var app = new IPythonApp();\n",
       "                    app.attachView('sframe','Plots', {\"selected_variable\": {\"name\": [\"sales\"], \"descriptives\": {\"rows\": 21613, \"columns\": 21}, \"view_component\": \"Plots\", \"view_file\": \"sframe\", \"view_params\": {\"y\": \"price\", \"x\": \"sqft_living\", \"columns\": [\"id\", \"date\", \"price\", \"bedrooms\", \"bathrooms\", \"sqft_living\", \"sqft_lot\", \"floors\", \"waterfront\", \"view\", \"condition\", \"grade\", \"sqft_above\", \"sqft_basement\", \"yr_built\", \"yr_renovated\", \"zipcode\", \"lat\", \"long\", \"sqft_living15\", \"sqft_lot15\"], \"view\": \"Scatter Plot\"}, \"view_components\": [\"Summary\", \"Table\", \"Bar Chart\", \"BoxWhisker Plot\", \"Line Chart\", \"Scatter Plot\", \"Heat Map\", \"Plots\"], \"type\": \"SFrame\", \"columns\": [{\"dtype\": \"str\", \"name\": \"id\"}, {\"dtype\": \"datetime\", \"name\": \"date\"}, {\"dtype\": \"int\", \"name\": \"price\"}, {\"dtype\": \"str\", \"name\": \"bedrooms\"}, {\"dtype\": \"str\", \"name\": \"bathrooms\"}, {\"dtype\": \"int\", \"name\": \"sqft_living\"}, {\"dtype\": \"int\", \"name\": \"sqft_lot\"}, {\"dtype\": \"str\", \"name\": \"floors\"}, {\"dtype\": \"int\", \"name\": \"waterfront\"}, {\"dtype\": \"int\", \"name\": \"view\"}, {\"dtype\": \"int\", \"name\": \"condition\"}, {\"dtype\": \"int\", \"name\": \"grade\"}, {\"dtype\": \"int\", \"name\": \"sqft_above\"}, {\"dtype\": \"int\", \"name\": \"sqft_basement\"}, {\"dtype\": \"int\", \"name\": \"yr_built\"}, {\"dtype\": \"int\", \"name\": \"yr_renovated\"}, {\"dtype\": \"str\", \"name\": \"zipcode\"}, {\"dtype\": \"float\", \"name\": \"lat\"}, {\"dtype\": \"float\", \"name\": \"long\"}, {\"dtype\": \"float\", \"name\": \"sqft_living15\"}, {\"dtype\": \"float\", \"name\": \"sqft_lot15\"}], \"column_identifiers\": [\"bathrooms\", \"sqft_living15\", \"sqft_above\", \"grade\", \"yr_built\", \"price\", \"bedrooms\", \"zipcode\", \"long\", \"id\", \"sqft_lot15\", \"sqft_living\", \"floors\", \"sqft_lot\", \"date\", \"waterfront\", \"sqft_basement\", \"yr_renovated\", \"lat\", \"condition\", \"view\"]}, \"complete\": 1, \"ipython\": true, \"progress\": 1.0, \"data\": [[790, 350000], [3410, 1575000], [1040, 600000], [2370, 530000], [2440, 565000], [1380, 539000], [2250, 390000], [1390, 272000], [1780, 229500], [2290, 540000], [1930, 295000], [2130, 325000], [2390, 675000], [4290, 792500], [2510, 605000], [2210, 614306], [1340, 330000], [2360, 750000], [1050, 325000], [1370, 170000], [1930, 531800], [3050, 2000000], [960, 500000], [3160, 467500], [2760, 375000], [1710, 233000], [2450, 937000], [1400, 667000], [1760, 229000], [2130, 338500], [2400, 425000], [1410, 442000], [1580, 249000], [1670, 555565], [2390, 460000], [2300, 696000], [2140, 375000], [1410, 275000], [1730, 479000], [2440, 925000], [1430, 407000], [2000, 810000], [1640, 517000], [2560, 485000], [1730, 258000], [1780, 315000], [5480, 3650000], [3580, 600000], [2050, 398000], [2753, 1350000], [3690, 575000], [1930, 434500], [2040, 872500], [2000, 320000], [2690, 340000], [2300, 299000], [1500, 576000], [1350, 400000], [1790, 225000], [3320, 302000], [1200, 210000], [990, 120000], [1740, 330000], [1460, 189000], [1840, 525000], [2440, 519950], [1950, 895000], [1050, 414500], [1370, 237600], [1490, 578500], [1230, 324950], [1650, 517000], [2340, 677500], [1440, 421200], [2400, 495000], [3430, 832500], [2870, 646000], [1370, 368000], [2460, 990000], [1130, 343000], [4320, 1670000], [2060, 533000], [1730, 446000], [2620, 615000], [1150, 361000], [1960, 277000], [2660, 305000], [1630, 313000], [1420, 320000], [1000, 311300], [3160, 579000], [2950, 759000], [2330, 549000], [1650, 500000], [910, 400000], [3050, 585000], [2220, 1425000], [2970, 400000], [2820, 485000], [2440, 330000], [1240, 505000], [1120, 225000], [1110, 365000], [1630, 581000], [2470, 339000], [2710, 1430000], [1410, 400000], [5660, 955000], [3740, 1080000], [2480, 716000], [1850, 565000], [2030, 500000], [2630, 843500], [1300, 380000], [990, 285000], [4590, 3000000], [1580, 245000], [2990, 440000], [1714, 307000], [2620, 885000], [4130, 1900000], [2210, 516000], [2570, 339990], [1310, 304000], [580, 220000], [5360, 700000], [2510, 788500], [1520, 533250], [1690, 719000], [1010, 350000], [2170, 565000], [2260, 418200], [1340, 176000], [1010, 310000], [2390, 260000], [2640, 1084500], [1500, 215000], [1470, 250000], [1250, 505000], [2960, 1161000], [1780, 240000], [1740, 350000], [1010, 315000], [5220, 1565000], [2460, 818000], [1720, 499000], [2440, 489990], [1890, 437000], [3180, 1000000], [1490, 310000], [2210, 507000], [1490, 230000], [1090, 698000], [1320, 420200], [1110, 229800], [1250, 459500], [2820, 750000], [1410, 239900], [1270, 247000], [1760, 320000], [3120, 575000], [2610, 610360], [1230, 329000], [2270, 352750], [2803, 379000], [1440, 487000], [1800, 556000], [1640, 230000], [1380, 525000], [1400, 340000], [1750, 312000], [1620, 395000], [5774, 740000], [1240, 350000], [3930, 589000], [2080, 389000], [2890, 421000], [2350, 459995], [2450, 480000], [2820, 408000], [2242, 310000], [1870, 340000], [980, 197500], [2230, 347500], [3520, 1220000], [4090, 1095000], [3040, 598780], [4240, 442500], [1750, 495000], [1510, 479200], [1220, 497000], [2250, 390000], [1630, 260000], [3540, 820000], [1640, 450000], [1930, 631000], [1460, 309950], [1930, 421000], [1930, 570000], [1980, 660000], [720, 235000], [2680, 379950], [2350, 850000], [2330, 344950], [1160, 340000], [2740, 689900], [3990, 570000], [3010, 831548], [900, 180250], [4090, 1290000], [2026, 358000], [2990, 600000], [1040, 325000], [1405, 405000], [2820, 450000], [1830, 825000], [5740, 1380000], [1800, 606400], [3900, 1072000], [1760, 269950], [1410, 382000], [4070, 2298000], [2090, 659000], [2570, 889000], [2720, 710000], [1560, 525000], [2500, 525000], [1680, 308000], [2370, 899000], [990, 409950], [2140, 365000], [720, 230000], [920, 125000], [1670, 448000], [3800, 2395000], [3620, 680000], [3087, 399950], [3490, 1050000], [2060, 270000], [2530, 880000], [1030, 229950], [830, 210000], [3280, 825000], [2980, 932800], [1020, 489000], [1370, 409950], [1890, 312000], [1800, 305000], [1540, 439950], [3820, 920000], [1240, 210000], [1940, 283748], [2460, 563225], [1210, 279000], [1340, 124740], [4390, 1230000], [2570, 762450], [970, 495000], [1212, 340000], [2010, 364000], [2600, 515000], [1270, 237000], [1200, 412000], [3960, 919990], [1760, 688500], [1620, 327000], [1140, 540000], [1810, 235000], [2790, 665000], [2300, 683000], [1830, 350000], [2200, 515000], [1370, 205000], [1120, 228950], [1910, 260000], [2653, 365000], [1200, 299000], [2270, 500000], [4010, 625000], [2680, 622000], [1070, 324000], [2640, 739375], [2780, 479950], [1690, 544500], [1580, 428000], [1800, 440000], [1230, 439950], [2970, 845000], [3890, 430000], [6110, 1320000], [2370, 587000], [2080, 198000], [1120, 365000], [3280, 580000], [1700, 985000], [940, 246500], [1660, 530000], [1370, 720000], [1320, 260000], [1590, 267500], [1260, 245000], [1400, 265000], [1960, 435000], [2170, 315000], [2290, 359950], [2280, 433000], [2030, 365500], [1010, 410000], [1430, 235000], [2700, 1260000], [1660, 560000], [1880, 310000], [1310, 417000], [2550, 452250], [1780, 292000], [2040, 545000], [1750, 542500], [1930, 390000], [1420, 615000], [2800, 1307000], [2020, 345000], [1920, 455000], [1460, 237950], [2700, 383962], [1800, 447000], [1740, 299950], [1890, 1430000], [2630, 475000], [2050, 386000], [1030, 253000], [860, 82000], [5230, 3400000], [1900, 245000], [1670, 400000], [2490, 940000], [2770, 318700], [2223, 320000], [1170, 275000], [2160, 325000], [2620, 659500], [2790, 685100], [1910, 411000], [1060, 506000], [2150, 575000], [1920, 260000], [1000, 165000], [2850, 300000], [3010, 659950], [2270, 585000], [1490, 260250], [2380, 340000], [3580, 616500], [2610, 675000], [3270, 797500], [2010, 639000], [3370, 2300000], [2450, 555000], [2080, 418000], [1330, 900000], [3540, 775000], [1920, 465000], [3266, 418000], [830, 271115], [2180, 621138], [1540, 462500], [1570, 325000], [3930, 1485000], [3280, 730000], [2080, 436800], [1280, 342450], [1980, 530000], [2380, 655500], [1450, 497000], [3650, 696000], [2600, 440000], [1480, 305000], [1640, 450000], [790, 248000], [2280, 349000], [2570, 370000], [860, 345000], [7000, 3200000], [1310, 310000], [2700, 525000], [3620, 1015000], [2890, 930000], [1270, 615000], [3030, 321000], [8010, 5110800], [1200, 222000], [960, 224975], [2090, 415000], [1300, 400000], [6260, 1180000], [1510, 410000], [2880, 725000], [1370, 175000], [2940, 590000], [1770, 449500], [720, 310000], [1710, 557000], [680, 200000], [1600, 390000], [910, 465000], [2240, 1350000], [1100, 157500], [1780, 261000], [1270, 401000], [2300, 615000], [894, 403000], [1550, 268000], [3240, 975000], [3550, 959900], [2160, 430000], [2500, 330000], [2920, 1065000], [1540, 340000], [2100, 283500], [2660, 760000], [1560, 285000], [2060, 574000], [1590, 572500], [1710, 234000], [4370, 1500000], [1590, 465000], [1530, 245000], [2630, 650000], [2380, 365650], [1800, 257000], [2910, 805000], [2810, 528000], [1660, 367500], [2375, 712000], [1660, 716000], [2450, 525000], [1670, 282000], [1740, 180000], [770, 385000], [2370, 535950], [3740, 475000], [1520, 190000], [3030, 660000], [2140, 616750], [1990, 330000], [1410, 399900], [3140, 585000], [2270, 513000], [1090, 394950], [1430, 255000], [2170, 592500], [1480, 641000], [2650, 352000], [690, 340000], [1220, 240000], [2430, 365000], [1700, 337500], [1300, 315000], [2424, 375000], [750, 370000], [670, 185000], [900, 553000], [3130, 652500], [1560, 360000], [940, 354000], [2540, 735000], [1550, 225000], [2440, 650000], [2440, 610000], [2180, 210000], [2680, 721000], [2590, 1175000], [1800, 485000], [2170, 907000], [3260, 800000], [3320, 950000], [1370, 203000], [2070, 255000], [2480, 424950], [2740, 409000], [1580, 480000], [1550, 369000], [1890, 523460], [2280, 419950], [2020, 410000], [1640, 234000], [3240, 789500], [3500, 750000], [2400, 590000], [3480, 895000], [1680, 265000], [1580, 452000], [2180, 415000], [3620, 858000], [1870, 272000], [2390, 623000], [3281, 471835], [1220, 237200], [4240, 2187730], [2060, 624950], [2850, 710000], [1020, 195000], [2520, 600000], [1070, 505000], [2460, 638250], [1550, 707500], [1860, 291000], [1714, 305000], [1590, 575000], [2640, 750000], [2890, 740000], [1250, 144000], [910, 232900], [4410, 1095000], [1500, 242000], [1650, 670000], [1600, 442500], [1580, 525000], [1740, 294950], [1580, 359000], [1680, 480000], [5020, 3600000], [2550, 543500], [2420, 570000], [3970, 2300000], [1264, 530000], [700, 340000], [1540, 565000], [2370, 510000], [1060, 578888], [1450, 419900], [2510, 535000], [1280, 272925], [2311, 399440], [1910, 297500], [1440, 435000], [1010, 229000], [1010, 347000], [1170, 455000], [2510, 550000], [1970, 346900], [2190, 600000], [1590, 210000], [1700, 950000], [1690, 500000], [1850, 485000], [1980, 361500], [4410, 765000], [1240, 355000], [2300, 315000], [2450, 969000], [1790, 280000], [1910, 415000], [1340, 381000], [1620, 484000], [3880, 1060000], [1070, 208000], [5010, 965000], [1360, 450000], [2650, 425000], [1540, 450000], [1640, 750000], [1290, 232000], [2300, 258750], [2100, 352500], [2280, 505000], [2280, 575000], [1790, 432100], [2260, 900000], [1040, 217500], [1160, 405000], [1130, 270000], [1170, 246500], [2860, 1010000], [2550, 650000], [1330, 180000], [1654, 336600], [2050, 353500], [6050, 930000], [1180, 360000], [2290, 625000], [2980, 598200], [780, 130000], [1730, 319000], [2060, 439000], [1370, 325000], [960, 374500], [1060, 461000], [3490, 1295000], [2200, 285167], [2850, 1275000], [990, 490000], [1970, 509950], [1400, 265000], [1650, 470000], [3280, 928950], [2790, 723000], [2600, 250000], [1940, 299000], [2850, 783500], [3670, 920000], [2240, 527000], [3430, 997000], [2110, 565000], [2100, 399000], [1720, 323000], [2580, 898000], [2640, 850000], [2590, 396500], [1280, 190000], [3400, 950000], [1480, 425000], [2480, 1387800], [2330, 580000], [3800, 730000], [1800, 517500], [2610, 535000], [2330, 375000], [1180, 383001], [1640, 414250], [2390, 330000], [2070, 372000], [2060, 577000], [1440, 355000], [2710, 442500], [2990, 339950], [1170, 480000], [1340, 455000], [3780, 930000], [1940, 300000], [2940, 850000], [960, 218000], [2910, 1398000], [1830, 494000], [1480, 325000], [2190, 446000], [1620, 290000], [2320, 1070000], [1530, 164000], [1550, 530000], [1140, 230000], [2180, 734000], [2313, 370000], [1620, 473000], [4240, 625000], [1860, 560000], [1200, 186000], [2650, 720000], [2880, 450000], [850, 389000], [1910, 496600], [3100, 511000], [2300, 308130], [1920, 325000], [3220, 558000], [3110, 655000], [2080, 267500], [3080, 475000], [1830, 336500], [1210, 342500], [1240, 559000], [2290, 450000], [2410, 330000], [3200, 1445000], [3490, 830000], [1890, 545000], [1570, 555000], [4050, 1288000], [2010, 322200], [1370, 185000], [2110, 400000], [1400, 887200], [2090, 610000], [1630, 426000], [1620, 386000], [1440, 332500], [4040, 1250000], [1010, 280000], [3340, 962000], [2500, 319500], [1540, 499000], [3090, 850000], [1610, 380000], [2000, 360000], [2200, 299900], [1940, 580000], [2690, 340000], [2680, 320000], [720, 330000], [1820, 499950], [1620, 485000], [1860, 399950], [1820, 290000], [3500, 799000], [2690, 620000], [1050, 169100], [1760, 353500], [2700, 385000], [1680, 268000], [4120, 949950], [1770, 353500], [1730, 465000], [2940, 480000], [2010, 530000], [1240, 505000], [2160, 550000], [2400, 280000], [1370, 689800], [1910, 430000], [1830, 434000], [890, 475000], [2270, 596000], [1450, 243000], [1980, 307550], [1740, 379000], [2200, 885000], [1160, 237000], [1510, 545000], [1570, 272950], [2300, 500000], [1990, 309000], [1190, 475000], [1630, 497000], [2270, 311750], [1510, 453000], [1020, 364000], [2420, 774888], [520, 262000], [3320, 687500], [1540, 396450], [4070, 1700000], [1970, 501000], [1680, 258000], [2380, 875000], [1340, 275000], [2780, 1140000], [2100, 465000], [2650, 665000], [2130, 620000], [1450, 550000], [1320, 159000], [1660, 375000], [3560, 616950], [990, 384000], [2530, 349900], [3860, 903000], [1300, 225000], [2660, 851000], [2730, 620000], [1000, 390000], [1510, 435000], [1780, 250000], [2090, 710000], [2990, 564950], [2650, 898000], [1690, 293000], [2380, 699900], [2670, 347000], [3950, 1310000], [4290, 840000], [1460, 430000], [3850, 925000], [1620, 365000], [1540, 450000], [4040, 2271150], [2930, 442515], [2060, 560000], [1520, 240000], [1710, 480000], [1140, 450000], [2320, 324950], [1700, 255000], [3380, 1190000], [2410, 530000], [1230, 195000], [2240, 590000], [1530, 474950], [1300, 552500], [2690, 925000], [3180, 1130000], [4490, 689000], [2210, 530000], [2030, 621000], [2210, 820000], [2550, 612500], [780, 285000], [2280, 364250], [950, 287000], [2250, 459900], [1340, 376000], [1930, 385000], [1960, 450000], [2160, 585000], [1190, 299500], [1210, 357186], [1010, 248000], [1830, 700000], [1980, 660000], [1980, 496752], [1150, 300000], [1440, 380000], [1230, 399950], [910, 305000], [2430, 310000], [2280, 345000], [2260, 925000], [1160, 201500], [2880, 360000], [2180, 359000], [2600, 805000], [1590, 235000], [1100, 168500], [1410, 445000], [2410, 334950], [1160, 215000], [3300, 510000], [1520, 550000], [1740, 515000], [2380, 446250], [2130, 1339000], [1160, 422000], [1690, 420000], [2110, 305000], [3810, 1700000], [1810, 287500], [1620, 382880], [1770, 585000], [1410, 267800], [2340, 242000], [1730, 329780], [1890, 465000], [2240, 510000], [1360, 273500], [1900, 270000], [2200, 349900], [1470, 352500], [2810, 518380], [1250, 370037], [3330, 760000], [1620, 498000], [2480, 579000], [2700, 950000], [3120, 790000], [970, 205000], [1880, 405000], [2800, 677790], [2660, 590000], [4450, 1300000], [3526, 911000], [1480, 466800], [1970, 435000], [3460, 746500], [5120, 1237500], [1350, 429000], [3550, 775000], [2600, 509000], [1760, 295000], [1980, 268000], [2020, 599500], [1260, 305000], [2640, 650000], [1530, 500000], [2890, 1072500], [2300, 482000], [1610, 648000], [4660, 739000], [2330, 732000], [1200, 140000], [2100, 1150000], [1580, 617450], [1050, 375000], [2050, 465000], [1990, 185000], [2230, 550000], [2420, 998000], [1460, 444000], [1410, 261500], [910, 290000], [3470, 875000], [950, 190000], [2830, 705000], [1180, 630500], [2240, 331210], [1910, 746000], [1830, 600000], [1690, 314950], [1710, 637000], [4210, 937500], [2960, 449000], [2320, 685000], [940, 435000], [1250, 458500], [1640, 415000], [2920, 1051000], [1670, 240000], [2450, 610000], [2240, 363990], [2550, 675000], [1800, 375000], [1520, 508450], [1740, 425000], [1410, 377500], [2950, 402000], [1810, 649000], [1650, 622000], [2070, 449950], [1890, 275000], [3490, 610000], [4360, 795127], [1390, 299000], [3860, 1160000], [4530, 950000], [2240, 535000], [1620, 420000], [790, 212000], [2090, 380000], [2070, 645000], [1760, 317000], [1460, 204000], [2640, 750000], [3160, 1280000], [2300, 450000], [3050, 840000], [1130, 315450], [2100, 540000], [1220, 670000], [1300, 337500], [2150, 513000], [1010, 390000], [1340, 427800], [2840, 729032], [2290, 840500], [1380, 329900], [2210, 432900], [2050, 623000], [2330, 308000], [1540, 539000], [1320, 359000], [1730, 465000], [1660, 270000], [1390, 190500], [3470, 475000], [1180, 169950], [3090, 458000], [2020, 420000], [2460, 640000], [2790, 803000], [2020, 650000], [1880, 440000], [2000, 677000], [1490, 316000], [1430, 215000], [2100, 370000], [1600, 424305], [1920, 1011000], [2230, 398750], [2670, 550000], [3950, 1925000], [1810, 575000], [1490, 312000], [2950, 424900], [1760, 690000], [1360, 234950], [1380, 435000], [2300, 1000000], [2080, 415000], [1830, 419995], [1730, 569000], [1270, 360000], [1700, 215000], [1220, 575000], [2280, 1325000], [2610, 608000], [1570, 352500], [2370, 735000], [1550, 555000], [800, 339950], [900, 550000], [1520, 650000], [1860, 590000], [3030, 901000], [1290, 200000], [2110, 320000], [1300, 205000], [1420, 349950], [7710, 3300000], [1360, 535000], [1370, 160000], [1440, 432250], [3320, 800000], [1470, 225000], [2060, 640000], [750, 325000], [1850, 515000], [2260, 648360], [1720, 290256], [2240, 395000], [1090, 375000], [2350, 469995], [2440, 710000], [2320, 705000]], \"columns\": [{\"dtype\": \"str\", \"name\": \"id\"}, {\"dtype\": \"datetime\", \"name\": \"date\"}, {\"dtype\": \"int\", \"name\": \"price\"}, {\"dtype\": \"str\", \"name\": \"bedrooms\"}, {\"dtype\": \"str\", \"name\": \"bathrooms\"}, {\"dtype\": \"int\", \"name\": \"sqft_living\"}, {\"dtype\": \"int\", \"name\": \"sqft_lot\"}, {\"dtype\": \"str\", \"name\": \"floors\"}, {\"dtype\": \"int\", \"name\": \"waterfront\"}, {\"dtype\": \"int\", \"name\": \"view\"}, {\"dtype\": \"int\", \"name\": \"condition\"}, {\"dtype\": \"int\", \"name\": \"grade\"}, {\"dtype\": \"int\", \"name\": \"sqft_above\"}, {\"dtype\": \"int\", \"name\": \"sqft_basement\"}, {\"dtype\": \"int\", \"name\": \"yr_built\"}, {\"dtype\": \"int\", \"name\": \"yr_renovated\"}, {\"dtype\": \"str\", \"name\": \"zipcode\"}, {\"dtype\": \"float\", \"name\": \"lat\"}, {\"dtype\": \"float\", \"name\": \"long\"}, {\"dtype\": \"float\", \"name\": \"sqft_living15\"}, {\"dtype\": \"float\", \"name\": \"sqft_lot15\"}]}, e);\n",
       "                });\n",
       "            })();\n",
       "        "
      ]
     },
     "metadata": {},
     "output_type": "display_data"
    }
   ],
   "source": [
    "graphlab.canvas.set_target('ipynb')\n",
    "sales.show(view=\"Scatter Plot\", x=\"sqft_living\", y=\"price\")"
   ]
  },
  {
   "cell_type": "markdown",
   "metadata": {},
   "source": [
    "#Create a simple regression model of sqft_living to price"
   ]
  },
  {
   "cell_type": "markdown",
   "metadata": {},
   "source": [
    "Split data into training and testing.  \n",
    "We use seed=0 so that everyone running this notebook gets the same results.  In practice, you may set a random seed (or let GraphLab Create pick a random seed for you).  "
   ]
  },
  {
   "cell_type": "code",
   "execution_count": 5,
   "metadata": {
    "collapsed": true
   },
   "outputs": [],
   "source": [
    "train_data,test_data = sales.random_split(.8,seed=0)"
   ]
  },
  {
   "cell_type": "markdown",
   "metadata": {},
   "source": [
    "##Build the regression model using only sqft_living as a feature"
   ]
  },
  {
   "cell_type": "code",
   "execution_count": 6,
   "metadata": {
    "collapsed": false
   },
   "outputs": [
    {
     "data": {
      "text/html": [
       "<pre>Linear regression:</pre>"
      ],
      "text/plain": [
       "Linear regression:"
      ]
     },
     "metadata": {},
     "output_type": "display_data"
    },
    {
     "data": {
      "text/html": [
       "<pre>--------------------------------------------------------</pre>"
      ],
      "text/plain": [
       "--------------------------------------------------------"
      ]
     },
     "metadata": {},
     "output_type": "display_data"
    },
    {
     "data": {
      "text/html": [
       "<pre>Number of examples          : 17384</pre>"
      ],
      "text/plain": [
       "Number of examples          : 17384"
      ]
     },
     "metadata": {},
     "output_type": "display_data"
    },
    {
     "data": {
      "text/html": [
       "<pre>Number of features          : 1</pre>"
      ],
      "text/plain": [
       "Number of features          : 1"
      ]
     },
     "metadata": {},
     "output_type": "display_data"
    },
    {
     "data": {
      "text/html": [
       "<pre>Number of unpacked features : 1</pre>"
      ],
      "text/plain": [
       "Number of unpacked features : 1"
      ]
     },
     "metadata": {},
     "output_type": "display_data"
    },
    {
     "data": {
      "text/html": [
       "<pre>Number of coefficients    : 2</pre>"
      ],
      "text/plain": [
       "Number of coefficients    : 2"
      ]
     },
     "metadata": {},
     "output_type": "display_data"
    },
    {
     "data": {
      "text/html": [
       "<pre>Starting Newton Method</pre>"
      ],
      "text/plain": [
       "Starting Newton Method"
      ]
     },
     "metadata": {},
     "output_type": "display_data"
    },
    {
     "data": {
      "text/html": [
       "<pre>--------------------------------------------------------</pre>"
      ],
      "text/plain": [
       "--------------------------------------------------------"
      ]
     },
     "metadata": {},
     "output_type": "display_data"
    },
    {
     "data": {
      "text/html": [
       "<pre>+-----------+----------+--------------+--------------------+---------------+</pre>"
      ],
      "text/plain": [
       "+-----------+----------+--------------+--------------------+---------------+"
      ]
     },
     "metadata": {},
     "output_type": "display_data"
    },
    {
     "data": {
      "text/html": [
       "<pre>| Iteration | Passes   | Elapsed Time | Training-max_error | Training-rmse |</pre>"
      ],
      "text/plain": [
       "| Iteration | Passes   | Elapsed Time | Training-max_error | Training-rmse |"
      ]
     },
     "metadata": {},
     "output_type": "display_data"
    },
    {
     "data": {
      "text/html": [
       "<pre>+-----------+----------+--------------+--------------------+---------------+</pre>"
      ],
      "text/plain": [
       "+-----------+----------+--------------+--------------------+---------------+"
      ]
     },
     "metadata": {},
     "output_type": "display_data"
    },
    {
     "data": {
      "text/html": [
       "<pre>| 1         | 2        | 1.010643     | 4349521.926170     | 262943.613754 |</pre>"
      ],
      "text/plain": [
       "| 1         | 2        | 1.010643     | 4349521.926170     | 262943.613754 |"
      ]
     },
     "metadata": {},
     "output_type": "display_data"
    },
    {
     "data": {
      "text/html": [
       "<pre>+-----------+----------+--------------+--------------------+---------------+</pre>"
      ],
      "text/plain": [
       "+-----------+----------+--------------+--------------------+---------------+"
      ]
     },
     "metadata": {},
     "output_type": "display_data"
    },
    {
     "data": {
      "text/html": [
       "<pre>SUCCESS: Optimal solution found.</pre>"
      ],
      "text/plain": [
       "SUCCESS: Optimal solution found."
      ]
     },
     "metadata": {},
     "output_type": "display_data"
    },
    {
     "data": {
      "text/html": [
       "<pre></pre>"
      ],
      "text/plain": []
     },
     "metadata": {},
     "output_type": "display_data"
    }
   ],
   "source": [
    "sqft_model = graphlab.linear_regression.create(train_data, target='price', features=['sqft_living'],validation_set=None)"
   ]
  },
  {
   "cell_type": "markdown",
   "metadata": {},
   "source": [
    "#Evaluate the simple model"
   ]
  },
  {
   "cell_type": "code",
   "execution_count": 7,
   "metadata": {
    "collapsed": false
   },
   "outputs": [
    {
     "name": "stdout",
     "output_type": "stream",
     "text": [
      "543054.042563\n"
     ]
    }
   ],
   "source": [
    "print test_data['price'].mean()"
   ]
  },
  {
   "cell_type": "code",
   "execution_count": 8,
   "metadata": {
    "collapsed": false
   },
   "outputs": [
    {
     "name": "stdout",
     "output_type": "stream",
     "text": [
      "{'max_error': 4143550.8825285938, 'rmse': 255191.02870527358}\n"
     ]
    }
   ],
   "source": [
    "print sqft_model.evaluate(test_data)"
   ]
  },
  {
   "cell_type": "markdown",
   "metadata": {},
   "source": [
    "RMSE of about \\$255,170!"
   ]
  },
  {
   "cell_type": "markdown",
   "metadata": {},
   "source": [
    "#Let's show what our predictions look like"
   ]
  },
  {
   "cell_type": "markdown",
   "metadata": {},
   "source": [
    "\n",
    "Matplotlib is a Python plotting library that is also useful for plotting.  You can install it with:\n",
    "\n",
    "'pip install matplotlib'"
   ]
  },
  {
   "cell_type": "code",
   "execution_count": 9,
   "metadata": {
    "collapsed": false
   },
   "outputs": [],
   "source": [
    "import matplotlib.pyplot as plt\n",
    "%matplotlib notebook"
   ]
  },
  {
   "cell_type": "code",
   "execution_count": 10,
   "metadata": {
    "collapsed": false
   },
   "outputs": [
    {
     "data": {
      "application/javascript": [
       "/* Put everything inside the global mpl namespace */\n",
       "window.mpl = {};\n",
       "\n",
       "mpl.get_websocket_type = function() {\n",
       "    if (typeof(WebSocket) !== 'undefined') {\n",
       "        return WebSocket;\n",
       "    } else if (typeof(MozWebSocket) !== 'undefined') {\n",
       "        return MozWebSocket;\n",
       "    } else {\n",
       "        alert('Your browser does not have WebSocket support.' +\n",
       "              'Please try Chrome, Safari or Firefox ≥ 6. ' +\n",
       "              'Firefox 4 and 5 are also supported but you ' +\n",
       "              'have to enable WebSockets in about:config.');\n",
       "    };\n",
       "}\n",
       "\n",
       "mpl.figure = function(figure_id, websocket, ondownload, parent_element) {\n",
       "    this.id = figure_id;\n",
       "\n",
       "    this.ws = websocket;\n",
       "\n",
       "    this.supports_binary = (this.ws.binaryType != undefined);\n",
       "\n",
       "    if (!this.supports_binary) {\n",
       "        var warnings = document.getElementById(\"mpl-warnings\");\n",
       "        if (warnings) {\n",
       "            warnings.style.display = 'block';\n",
       "            warnings.textContent = (\n",
       "                \"This browser does not support binary websocket messages. \" +\n",
       "                    \"Performance may be slow.\");\n",
       "        }\n",
       "    }\n",
       "\n",
       "    this.imageObj = new Image();\n",
       "\n",
       "    this.context = undefined;\n",
       "    this.message = undefined;\n",
       "    this.canvas = undefined;\n",
       "    this.rubberband_canvas = undefined;\n",
       "    this.rubberband_context = undefined;\n",
       "    this.format_dropdown = undefined;\n",
       "\n",
       "    this.image_mode = 'full';\n",
       "\n",
       "    this.root = $('<div/>');\n",
       "    this._root_extra_style(this.root)\n",
       "    this.root.attr('style', 'display: inline-block');\n",
       "\n",
       "    $(parent_element).append(this.root);\n",
       "\n",
       "    this._init_header(this);\n",
       "    this._init_canvas(this);\n",
       "    this._init_toolbar(this);\n",
       "\n",
       "    var fig = this;\n",
       "\n",
       "    this.waiting = false;\n",
       "\n",
       "    this.ws.onopen =  function () {\n",
       "            fig.send_message(\"supports_binary\", {value: fig.supports_binary});\n",
       "            fig.send_message(\"send_image_mode\", {});\n",
       "            fig.send_message(\"refresh\", {});\n",
       "        }\n",
       "\n",
       "    this.imageObj.onload = function() {\n",
       "            if (fig.image_mode == 'full') {\n",
       "                // Full images could contain transparency (where diff images\n",
       "                // almost always do), so we need to clear the canvas so that\n",
       "                // there is no ghosting.\n",
       "                fig.context.clearRect(0, 0, fig.canvas.width, fig.canvas.height);\n",
       "            }\n",
       "            fig.context.drawImage(fig.imageObj, 0, 0);\n",
       "        };\n",
       "\n",
       "    this.imageObj.onunload = function() {\n",
       "        this.ws.close();\n",
       "    }\n",
       "\n",
       "    this.ws.onmessage = this._make_on_message_function(this);\n",
       "\n",
       "    this.ondownload = ondownload;\n",
       "}\n",
       "\n",
       "mpl.figure.prototype._init_header = function() {\n",
       "    var titlebar = $(\n",
       "        '<div class=\"ui-dialog-titlebar ui-widget-header ui-corner-all ' +\n",
       "        'ui-helper-clearfix\"/>');\n",
       "    var titletext = $(\n",
       "        '<div class=\"ui-dialog-title\" style=\"width: 100%; ' +\n",
       "        'text-align: center; padding: 3px;\"/>');\n",
       "    titlebar.append(titletext)\n",
       "    this.root.append(titlebar);\n",
       "    this.header = titletext[0];\n",
       "}\n",
       "\n",
       "\n",
       "\n",
       "mpl.figure.prototype._canvas_extra_style = function(canvas_div) {\n",
       "\n",
       "}\n",
       "\n",
       "\n",
       "mpl.figure.prototype._root_extra_style = function(canvas_div) {\n",
       "\n",
       "}\n",
       "\n",
       "mpl.figure.prototype._init_canvas = function() {\n",
       "    var fig = this;\n",
       "\n",
       "    var canvas_div = $('<div/>');\n",
       "\n",
       "    canvas_div.attr('style', 'position: relative; clear: both; outline: 0');\n",
       "\n",
       "    function canvas_keyboard_event(event) {\n",
       "        return fig.key_event(event, event['data']);\n",
       "    }\n",
       "\n",
       "    canvas_div.keydown('key_press', canvas_keyboard_event);\n",
       "    canvas_div.keyup('key_release', canvas_keyboard_event);\n",
       "    this.canvas_div = canvas_div\n",
       "    this._canvas_extra_style(canvas_div)\n",
       "    this.root.append(canvas_div);\n",
       "\n",
       "    var canvas = $('<canvas/>');\n",
       "    canvas.addClass('mpl-canvas');\n",
       "    canvas.attr('style', \"left: 0; top: 0; z-index: 0; outline: 0\")\n",
       "\n",
       "    this.canvas = canvas[0];\n",
       "    this.context = canvas[0].getContext(\"2d\");\n",
       "\n",
       "    var rubberband = $('<canvas/>');\n",
       "    rubberband.attr('style', \"position: absolute; left: 0; top: 0; z-index: 1;\")\n",
       "\n",
       "    var pass_mouse_events = true;\n",
       "\n",
       "    canvas_div.resizable({\n",
       "        start: function(event, ui) {\n",
       "            pass_mouse_events = false;\n",
       "        },\n",
       "        resize: function(event, ui) {\n",
       "            fig.request_resize(ui.size.width, ui.size.height);\n",
       "        },\n",
       "        stop: function(event, ui) {\n",
       "            pass_mouse_events = true;\n",
       "            fig.request_resize(ui.size.width, ui.size.height);\n",
       "        },\n",
       "    });\n",
       "\n",
       "    function mouse_event_fn(event) {\n",
       "        if (pass_mouse_events)\n",
       "            return fig.mouse_event(event, event['data']);\n",
       "    }\n",
       "\n",
       "    rubberband.mousedown('button_press', mouse_event_fn);\n",
       "    rubberband.mouseup('button_release', mouse_event_fn);\n",
       "    // Throttle sequential mouse events to 1 every 20ms.\n",
       "    rubberband.mousemove('motion_notify', mouse_event_fn);\n",
       "\n",
       "    rubberband.mouseenter('figure_enter', mouse_event_fn);\n",
       "    rubberband.mouseleave('figure_leave', mouse_event_fn);\n",
       "\n",
       "    canvas_div.on(\"wheel\", function (event) {\n",
       "        event = event.originalEvent;\n",
       "        event['data'] = 'scroll'\n",
       "        if (event.deltaY < 0) {\n",
       "            event.step = 1;\n",
       "        } else {\n",
       "            event.step = -1;\n",
       "        }\n",
       "        mouse_event_fn(event);\n",
       "    });\n",
       "\n",
       "    canvas_div.append(canvas);\n",
       "    canvas_div.append(rubberband);\n",
       "\n",
       "    this.rubberband = rubberband;\n",
       "    this.rubberband_canvas = rubberband[0];\n",
       "    this.rubberband_context = rubberband[0].getContext(\"2d\");\n",
       "    this.rubberband_context.strokeStyle = \"#000000\";\n",
       "\n",
       "    this._resize_canvas = function(width, height) {\n",
       "        // Keep the size of the canvas, canvas container, and rubber band\n",
       "        // canvas in synch.\n",
       "        canvas_div.css('width', width)\n",
       "        canvas_div.css('height', height)\n",
       "\n",
       "        canvas.attr('width', width);\n",
       "        canvas.attr('height', height);\n",
       "\n",
       "        rubberband.attr('width', width);\n",
       "        rubberband.attr('height', height);\n",
       "    }\n",
       "\n",
       "    // Set the figure to an initial 600x600px, this will subsequently be updated\n",
       "    // upon first draw.\n",
       "    this._resize_canvas(600, 600);\n",
       "\n",
       "    // Disable right mouse context menu.\n",
       "    $(this.rubberband_canvas).bind(\"contextmenu\",function(e){\n",
       "        return false;\n",
       "    });\n",
       "\n",
       "    function set_focus () {\n",
       "        canvas.focus();\n",
       "        canvas_div.focus();\n",
       "    }\n",
       "\n",
       "    window.setTimeout(set_focus, 100);\n",
       "}\n",
       "\n",
       "mpl.figure.prototype._init_toolbar = function() {\n",
       "    var fig = this;\n",
       "\n",
       "    var nav_element = $('<div/>')\n",
       "    nav_element.attr('style', 'width: 100%');\n",
       "    this.root.append(nav_element);\n",
       "\n",
       "    // Define a callback function for later on.\n",
       "    function toolbar_event(event) {\n",
       "        return fig.toolbar_button_onclick(event['data']);\n",
       "    }\n",
       "    function toolbar_mouse_event(event) {\n",
       "        return fig.toolbar_button_onmouseover(event['data']);\n",
       "    }\n",
       "\n",
       "    for(var toolbar_ind in mpl.toolbar_items) {\n",
       "        var name = mpl.toolbar_items[toolbar_ind][0];\n",
       "        var tooltip = mpl.toolbar_items[toolbar_ind][1];\n",
       "        var image = mpl.toolbar_items[toolbar_ind][2];\n",
       "        var method_name = mpl.toolbar_items[toolbar_ind][3];\n",
       "\n",
       "        if (!name) {\n",
       "            // put a spacer in here.\n",
       "            continue;\n",
       "        }\n",
       "        var button = $('<button/>');\n",
       "        button.addClass('ui-button ui-widget ui-state-default ui-corner-all ' +\n",
       "                        'ui-button-icon-only');\n",
       "        button.attr('role', 'button');\n",
       "        button.attr('aria-disabled', 'false');\n",
       "        button.click(method_name, toolbar_event);\n",
       "        button.mouseover(tooltip, toolbar_mouse_event);\n",
       "\n",
       "        var icon_img = $('<span/>');\n",
       "        icon_img.addClass('ui-button-icon-primary ui-icon');\n",
       "        icon_img.addClass(image);\n",
       "        icon_img.addClass('ui-corner-all');\n",
       "\n",
       "        var tooltip_span = $('<span/>');\n",
       "        tooltip_span.addClass('ui-button-text');\n",
       "        tooltip_span.html(tooltip);\n",
       "\n",
       "        button.append(icon_img);\n",
       "        button.append(tooltip_span);\n",
       "\n",
       "        nav_element.append(button);\n",
       "    }\n",
       "\n",
       "    var fmt_picker_span = $('<span/>');\n",
       "\n",
       "    var fmt_picker = $('<select/>');\n",
       "    fmt_picker.addClass('mpl-toolbar-option ui-widget ui-widget-content');\n",
       "    fmt_picker_span.append(fmt_picker);\n",
       "    nav_element.append(fmt_picker_span);\n",
       "    this.format_dropdown = fmt_picker[0];\n",
       "\n",
       "    for (var ind in mpl.extensions) {\n",
       "        var fmt = mpl.extensions[ind];\n",
       "        var option = $(\n",
       "            '<option/>', {selected: fmt === mpl.default_extension}).html(fmt);\n",
       "        fmt_picker.append(option)\n",
       "    }\n",
       "\n",
       "    // Add hover states to the ui-buttons\n",
       "    $( \".ui-button\" ).hover(\n",
       "        function() { $(this).addClass(\"ui-state-hover\");},\n",
       "        function() { $(this).removeClass(\"ui-state-hover\");}\n",
       "    );\n",
       "\n",
       "    var status_bar = $('<span class=\"mpl-message\"/>');\n",
       "    nav_element.append(status_bar);\n",
       "    this.message = status_bar[0];\n",
       "}\n",
       "\n",
       "mpl.figure.prototype.request_resize = function(x_pixels, y_pixels) {\n",
       "    // Request matplotlib to resize the figure. Matplotlib will then trigger a resize in the client,\n",
       "    // which will in turn request a refresh of the image.\n",
       "    this.send_message('resize', {'width': x_pixels, 'height': y_pixels});\n",
       "}\n",
       "\n",
       "mpl.figure.prototype.send_message = function(type, properties) {\n",
       "    properties['type'] = type;\n",
       "    properties['figure_id'] = this.id;\n",
       "    this.ws.send(JSON.stringify(properties));\n",
       "}\n",
       "\n",
       "mpl.figure.prototype.send_draw_message = function() {\n",
       "    if (!this.waiting) {\n",
       "        this.waiting = true;\n",
       "        this.ws.send(JSON.stringify({type: \"draw\", figure_id: this.id}));\n",
       "    }\n",
       "}\n",
       "\n",
       "\n",
       "mpl.figure.prototype.handle_save = function(fig, msg) {\n",
       "    var format_dropdown = fig.format_dropdown;\n",
       "    var format = format_dropdown.options[format_dropdown.selectedIndex].value;\n",
       "    fig.ondownload(fig, format);\n",
       "}\n",
       "\n",
       "\n",
       "mpl.figure.prototype.handle_resize = function(fig, msg) {\n",
       "    var size = msg['size'];\n",
       "    if (size[0] != fig.canvas.width || size[1] != fig.canvas.height) {\n",
       "        fig._resize_canvas(size[0], size[1]);\n",
       "        fig.send_message(\"refresh\", {});\n",
       "    };\n",
       "}\n",
       "\n",
       "mpl.figure.prototype.handle_rubberband = function(fig, msg) {\n",
       "    var x0 = msg['x0'];\n",
       "    var y0 = fig.canvas.height - msg['y0'];\n",
       "    var x1 = msg['x1'];\n",
       "    var y1 = fig.canvas.height - msg['y1'];\n",
       "    x0 = Math.floor(x0) + 0.5;\n",
       "    y0 = Math.floor(y0) + 0.5;\n",
       "    x1 = Math.floor(x1) + 0.5;\n",
       "    y1 = Math.floor(y1) + 0.5;\n",
       "    var min_x = Math.min(x0, x1);\n",
       "    var min_y = Math.min(y0, y1);\n",
       "    var width = Math.abs(x1 - x0);\n",
       "    var height = Math.abs(y1 - y0);\n",
       "\n",
       "    fig.rubberband_context.clearRect(\n",
       "        0, 0, fig.canvas.width, fig.canvas.height);\n",
       "\n",
       "    fig.rubberband_context.strokeRect(min_x, min_y, width, height);\n",
       "}\n",
       "\n",
       "mpl.figure.prototype.handle_figure_label = function(fig, msg) {\n",
       "    // Updates the figure title.\n",
       "    fig.header.textContent = msg['label'];\n",
       "}\n",
       "\n",
       "mpl.figure.prototype.handle_cursor = function(fig, msg) {\n",
       "    var cursor = msg['cursor'];\n",
       "    switch(cursor)\n",
       "    {\n",
       "    case 0:\n",
       "        cursor = 'pointer';\n",
       "        break;\n",
       "    case 1:\n",
       "        cursor = 'default';\n",
       "        break;\n",
       "    case 2:\n",
       "        cursor = 'crosshair';\n",
       "        break;\n",
       "    case 3:\n",
       "        cursor = 'move';\n",
       "        break;\n",
       "    }\n",
       "    fig.rubberband_canvas.style.cursor = cursor;\n",
       "}\n",
       "\n",
       "mpl.figure.prototype.handle_message = function(fig, msg) {\n",
       "    fig.message.textContent = msg['message'];\n",
       "}\n",
       "\n",
       "mpl.figure.prototype.handle_draw = function(fig, msg) {\n",
       "    // Request the server to send over a new figure.\n",
       "    fig.send_draw_message();\n",
       "}\n",
       "\n",
       "mpl.figure.prototype.handle_image_mode = function(fig, msg) {\n",
       "    fig.image_mode = msg['mode'];\n",
       "}\n",
       "\n",
       "mpl.figure.prototype.updated_canvas_event = function() {\n",
       "    // Called whenever the canvas gets updated.\n",
       "    this.send_message(\"ack\", {});\n",
       "}\n",
       "\n",
       "// A function to construct a web socket function for onmessage handling.\n",
       "// Called in the figure constructor.\n",
       "mpl.figure.prototype._make_on_message_function = function(fig) {\n",
       "    return function socket_on_message(evt) {\n",
       "        if (evt.data instanceof Blob) {\n",
       "            /* FIXME: We get \"Resource interpreted as Image but\n",
       "             * transferred with MIME type text/plain:\" errors on\n",
       "             * Chrome.  But how to set the MIME type?  It doesn't seem\n",
       "             * to be part of the websocket stream */\n",
       "            evt.data.type = \"image/png\";\n",
       "\n",
       "            /* Free the memory for the previous frames */\n",
       "            if (fig.imageObj.src) {\n",
       "                (window.URL || window.webkitURL).revokeObjectURL(\n",
       "                    fig.imageObj.src);\n",
       "            }\n",
       "\n",
       "            fig.imageObj.src = (window.URL || window.webkitURL).createObjectURL(\n",
       "                evt.data);\n",
       "            fig.updated_canvas_event();\n",
       "            fig.waiting = false;\n",
       "            return;\n",
       "        }\n",
       "        else if (typeof evt.data === 'string' && evt.data.slice(0, 21) == \"data:image/png;base64\") {\n",
       "            fig.imageObj.src = evt.data;\n",
       "            fig.updated_canvas_event();\n",
       "            fig.waiting = false;\n",
       "            return;\n",
       "        }\n",
       "\n",
       "        var msg = JSON.parse(evt.data);\n",
       "        var msg_type = msg['type'];\n",
       "\n",
       "        // Call the  \"handle_{type}\" callback, which takes\n",
       "        // the figure and JSON message as its only arguments.\n",
       "        try {\n",
       "            var callback = fig[\"handle_\" + msg_type];\n",
       "        } catch (e) {\n",
       "            console.log(\"No handler for the '\" + msg_type + \"' message type: \", msg);\n",
       "            return;\n",
       "        }\n",
       "\n",
       "        if (callback) {\n",
       "            try {\n",
       "                // console.log(\"Handling '\" + msg_type + \"' message: \", msg);\n",
       "                callback(fig, msg);\n",
       "            } catch (e) {\n",
       "                console.log(\"Exception inside the 'handler_\" + msg_type + \"' callback:\", e, e.stack, msg);\n",
       "            }\n",
       "        }\n",
       "    };\n",
       "}\n",
       "\n",
       "// from http://stackoverflow.com/questions/1114465/getting-mouse-location-in-canvas\n",
       "mpl.findpos = function(e) {\n",
       "    //this section is from http://www.quirksmode.org/js/events_properties.html\n",
       "    var targ;\n",
       "    if (!e)\n",
       "        e = window.event;\n",
       "    if (e.target)\n",
       "        targ = e.target;\n",
       "    else if (e.srcElement)\n",
       "        targ = e.srcElement;\n",
       "    if (targ.nodeType == 3) // defeat Safari bug\n",
       "        targ = targ.parentNode;\n",
       "\n",
       "    // jQuery normalizes the pageX and pageY\n",
       "    // pageX,Y are the mouse positions relative to the document\n",
       "    // offset() returns the position of the element relative to the document\n",
       "    var x = e.pageX - $(targ).offset().left;\n",
       "    var y = e.pageY - $(targ).offset().top;\n",
       "\n",
       "    return {\"x\": x, \"y\": y};\n",
       "};\n",
       "\n",
       "/*\n",
       " * return a copy of an object with only non-object keys\n",
       " * we need this to avoid circular references\n",
       " * http://stackoverflow.com/a/24161582/3208463\n",
       " */\n",
       "function simpleKeys (original) {\n",
       "  return Object.keys(original).reduce(function (obj, key) {\n",
       "    if (typeof original[key] !== 'object')\n",
       "        obj[key] = original[key]\n",
       "    return obj;\n",
       "  }, {});\n",
       "}\n",
       "\n",
       "mpl.figure.prototype.mouse_event = function(event, name) {\n",
       "    var canvas_pos = mpl.findpos(event)\n",
       "\n",
       "    if (name === 'button_press')\n",
       "    {\n",
       "        this.canvas.focus();\n",
       "        this.canvas_div.focus();\n",
       "    }\n",
       "\n",
       "    var x = canvas_pos.x;\n",
       "    var y = canvas_pos.y;\n",
       "\n",
       "    this.send_message(name, {x: x, y: y, button: event.button,\n",
       "                             step: event.step,\n",
       "                             guiEvent: simpleKeys(event)});\n",
       "\n",
       "    /* This prevents the web browser from automatically changing to\n",
       "     * the text insertion cursor when the button is pressed.  We want\n",
       "     * to control all of the cursor setting manually through the\n",
       "     * 'cursor' event from matplotlib */\n",
       "    event.preventDefault();\n",
       "    return false;\n",
       "}\n",
       "\n",
       "mpl.figure.prototype._key_event_extra = function(event, name) {\n",
       "    // Handle any extra behaviour associated with a key event\n",
       "}\n",
       "\n",
       "mpl.figure.prototype.key_event = function(event, name) {\n",
       "\n",
       "    // Prevent repeat events\n",
       "    if (name == 'key_press')\n",
       "    {\n",
       "        if (event.which === this._key)\n",
       "            return;\n",
       "        else\n",
       "            this._key = event.which;\n",
       "    }\n",
       "    if (name == 'key_release')\n",
       "        this._key = null;\n",
       "\n",
       "    var value = '';\n",
       "    if (event.ctrlKey && event.which != 17)\n",
       "        value += \"ctrl+\";\n",
       "    if (event.altKey && event.which != 18)\n",
       "        value += \"alt+\";\n",
       "    if (event.shiftKey && event.which != 16)\n",
       "        value += \"shift+\";\n",
       "\n",
       "    value += 'k';\n",
       "    value += event.which.toString();\n",
       "\n",
       "    this._key_event_extra(event, name);\n",
       "\n",
       "    this.send_message(name, {key: value,\n",
       "                             guiEvent: simpleKeys(event)});\n",
       "    return false;\n",
       "}\n",
       "\n",
       "mpl.figure.prototype.toolbar_button_onclick = function(name) {\n",
       "    if (name == 'download') {\n",
       "        this.handle_save(this, null);\n",
       "    } else {\n",
       "        this.send_message(\"toolbar_button\", {name: name});\n",
       "    }\n",
       "};\n",
       "\n",
       "mpl.figure.prototype.toolbar_button_onmouseover = function(tooltip) {\n",
       "    this.message.textContent = tooltip;\n",
       "};\n",
       "mpl.toolbar_items = [[\"Home\", \"Reset original view\", \"fa fa-home icon-home\", \"home\"], [\"Back\", \"Back to  previous view\", \"fa fa-arrow-left icon-arrow-left\", \"back\"], [\"Forward\", \"Forward to next view\", \"fa fa-arrow-right icon-arrow-right\", \"forward\"], [\"\", \"\", \"\", \"\"], [\"Pan\", \"Pan axes with left mouse, zoom with right\", \"fa fa-arrows icon-move\", \"pan\"], [\"Zoom\", \"Zoom to rectangle\", \"fa fa-square-o icon-check-empty\", \"zoom\"], [\"\", \"\", \"\", \"\"], [\"Download\", \"Download plot\", \"fa fa-floppy-o icon-save\", \"download\"]];\n",
       "\n",
       "mpl.extensions = [\"eps\", \"jpeg\", \"pdf\", \"png\", \"ps\", \"raw\", \"svg\", \"tif\"];\n",
       "\n",
       "mpl.default_extension = \"png\";var comm_websocket_adapter = function(comm) {\n",
       "    // Create a \"websocket\"-like object which calls the given IPython comm\n",
       "    // object with the appropriate methods. Currently this is a non binary\n",
       "    // socket, so there is still some room for performance tuning.\n",
       "    var ws = {};\n",
       "\n",
       "    ws.close = function() {\n",
       "        comm.close()\n",
       "    };\n",
       "    ws.send = function(m) {\n",
       "        //console.log('sending', m);\n",
       "        comm.send(m);\n",
       "    };\n",
       "    // Register the callback with on_msg.\n",
       "    comm.on_msg(function(msg) {\n",
       "        //console.log('receiving', msg['content']['data'], msg);\n",
       "        // Pass the mpl event to the overriden (by mpl) onmessage function.\n",
       "        ws.onmessage(msg['content']['data'])\n",
       "    });\n",
       "    return ws;\n",
       "}\n",
       "\n",
       "mpl.mpl_figure_comm = function(comm, msg) {\n",
       "    // This is the function which gets called when the mpl process\n",
       "    // starts-up an IPython Comm through the \"matplotlib\" channel.\n",
       "\n",
       "    var id = msg.content.data.id;\n",
       "    // Get hold of the div created by the display call when the Comm\n",
       "    // socket was opened in Python.\n",
       "    var element = $(\"#\" + id);\n",
       "    var ws_proxy = comm_websocket_adapter(comm)\n",
       "\n",
       "    function ondownload(figure, format) {\n",
       "        window.open(figure.imageObj.src);\n",
       "    }\n",
       "\n",
       "    var fig = new mpl.figure(id, ws_proxy,\n",
       "                           ondownload,\n",
       "                           element.get(0));\n",
       "\n",
       "    // Call onopen now - mpl needs it, as it is assuming we've passed it a real\n",
       "    // web socket which is closed, not our websocket->open comm proxy.\n",
       "    ws_proxy.onopen();\n",
       "\n",
       "    fig.parent_element = element.get(0);\n",
       "    fig.cell_info = mpl.find_output_cell(\"<div id='\" + id + \"'></div>\");\n",
       "    if (!fig.cell_info) {\n",
       "        console.error(\"Failed to find cell for figure\", id, fig);\n",
       "        return;\n",
       "    }\n",
       "\n",
       "    var output_index = fig.cell_info[2]\n",
       "    var cell = fig.cell_info[0];\n",
       "\n",
       "};\n",
       "\n",
       "mpl.figure.prototype.handle_close = function(fig, msg) {\n",
       "    fig.root.unbind('remove')\n",
       "\n",
       "    // Update the output cell to use the data from the current canvas.\n",
       "    fig.push_to_output();\n",
       "    var dataURL = fig.canvas.toDataURL();\n",
       "    // Re-enable the keyboard manager in IPython - without this line, in FF,\n",
       "    // the notebook keyboard shortcuts fail.\n",
       "    IPython.keyboard_manager.enable()\n",
       "    $(fig.parent_element).html('<img src=\"' + dataURL + '\">');\n",
       "    fig.close_ws(fig, msg);\n",
       "}\n",
       "\n",
       "mpl.figure.prototype.close_ws = function(fig, msg){\n",
       "    fig.send_message('closing', msg);\n",
       "    // fig.ws.close()\n",
       "}\n",
       "\n",
       "mpl.figure.prototype.push_to_output = function(remove_interactive) {\n",
       "    // Turn the data on the canvas into data in the output cell.\n",
       "    var dataURL = this.canvas.toDataURL();\n",
       "    this.cell_info[1]['text/html'] = '<img src=\"' + dataURL + '\">';\n",
       "}\n",
       "\n",
       "mpl.figure.prototype.updated_canvas_event = function() {\n",
       "    // Tell IPython that the notebook contents must change.\n",
       "    IPython.notebook.set_dirty(true);\n",
       "    this.send_message(\"ack\", {});\n",
       "    var fig = this;\n",
       "    // Wait a second, then push the new image to the DOM so\n",
       "    // that it is saved nicely (might be nice to debounce this).\n",
       "    setTimeout(function () { fig.push_to_output() }, 1000);\n",
       "}\n",
       "\n",
       "mpl.figure.prototype._init_toolbar = function() {\n",
       "    var fig = this;\n",
       "\n",
       "    var nav_element = $('<div/>')\n",
       "    nav_element.attr('style', 'width: 100%');\n",
       "    this.root.append(nav_element);\n",
       "\n",
       "    // Define a callback function for later on.\n",
       "    function toolbar_event(event) {\n",
       "        return fig.toolbar_button_onclick(event['data']);\n",
       "    }\n",
       "    function toolbar_mouse_event(event) {\n",
       "        return fig.toolbar_button_onmouseover(event['data']);\n",
       "    }\n",
       "\n",
       "    for(var toolbar_ind in mpl.toolbar_items){\n",
       "        var name = mpl.toolbar_items[toolbar_ind][0];\n",
       "        var tooltip = mpl.toolbar_items[toolbar_ind][1];\n",
       "        var image = mpl.toolbar_items[toolbar_ind][2];\n",
       "        var method_name = mpl.toolbar_items[toolbar_ind][3];\n",
       "\n",
       "        if (!name) { continue; };\n",
       "\n",
       "        var button = $('<button class=\"btn btn-default\" href=\"#\" title=\"' + name + '\"><i class=\"fa ' + image + ' fa-lg\"></i></button>');\n",
       "        button.click(method_name, toolbar_event);\n",
       "        button.mouseover(tooltip, toolbar_mouse_event);\n",
       "        nav_element.append(button);\n",
       "    }\n",
       "\n",
       "    // Add the status bar.\n",
       "    var status_bar = $('<span class=\"mpl-message\" style=\"text-align:right; float: right;\"/>');\n",
       "    nav_element.append(status_bar);\n",
       "    this.message = status_bar[0];\n",
       "\n",
       "    // Add the close button to the window.\n",
       "    var buttongrp = $('<div class=\"btn-group inline pull-right\"></div>');\n",
       "    var button = $('<button class=\"btn btn-mini btn-primary\" href=\"#\" title=\"Stop Interaction\"><i class=\"fa fa-power-off icon-remove icon-large\"></i></button>');\n",
       "    button.click(function (evt) { fig.handle_close(fig, {}); } );\n",
       "    button.mouseover('Stop Interaction', toolbar_mouse_event);\n",
       "    buttongrp.append(button);\n",
       "    var titlebar = this.root.find($('.ui-dialog-titlebar'));\n",
       "    titlebar.prepend(buttongrp);\n",
       "}\n",
       "\n",
       "mpl.figure.prototype._root_extra_style = function(el){\n",
       "    var fig = this\n",
       "    el.on(\"remove\", function(){\n",
       "\tfig.close_ws(fig, {});\n",
       "    });\n",
       "}\n",
       "\n",
       "mpl.figure.prototype._canvas_extra_style = function(el){\n",
       "    // this is important to make the div 'focusable\n",
       "    el.attr('tabindex', 0)\n",
       "    // reach out to IPython and tell the keyboard manager to turn it's self\n",
       "    // off when our div gets focus\n",
       "\n",
       "    // location in version 3\n",
       "    if (IPython.notebook.keyboard_manager) {\n",
       "        IPython.notebook.keyboard_manager.register_events(el);\n",
       "    }\n",
       "    else {\n",
       "        // location in version 2\n",
       "        IPython.keyboard_manager.register_events(el);\n",
       "    }\n",
       "\n",
       "}\n",
       "\n",
       "mpl.figure.prototype._key_event_extra = function(event, name) {\n",
       "    var manager = IPython.notebook.keyboard_manager;\n",
       "    if (!manager)\n",
       "        manager = IPython.keyboard_manager;\n",
       "\n",
       "    // Check for shift+enter\n",
       "    if (event.shiftKey && event.which == 13) {\n",
       "        this.canvas_div.blur();\n",
       "        event.shiftKey = false;\n",
       "        // Send a \"J\" for go to next cell\n",
       "        event.which = 74;\n",
       "        event.keyCode = 74;\n",
       "        manager.command_mode();\n",
       "        manager.handle_keydown(event);\n",
       "    }\n",
       "}\n",
       "\n",
       "mpl.figure.prototype.handle_save = function(fig, msg) {\n",
       "    fig.ondownload(fig, null);\n",
       "}\n",
       "\n",
       "\n",
       "mpl.find_output_cell = function(html_output) {\n",
       "    // Return the cell and output element which can be found *uniquely* in the notebook.\n",
       "    // Note - this is a bit hacky, but it is done because the \"notebook_saving.Notebook\"\n",
       "    // IPython event is triggered only after the cells have been serialised, which for\n",
       "    // our purposes (turning an active figure into a static one), is too late.\n",
       "    var cells = IPython.notebook.get_cells();\n",
       "    var ncells = cells.length;\n",
       "    for (var i=0; i<ncells; i++) {\n",
       "        var cell = cells[i];\n",
       "        if (cell.cell_type === 'code'){\n",
       "            for (var j=0; j<cell.output_area.outputs.length; j++) {\n",
       "                var data = cell.output_area.outputs[j];\n",
       "                if (data.data) {\n",
       "                    // IPython >= 3 moved mimebundle to data attribute of output\n",
       "                    data = data.data;\n",
       "                }\n",
       "                if (data['text/html'] == html_output) {\n",
       "                    return [cell, data, j];\n",
       "                }\n",
       "            }\n",
       "        }\n",
       "    }\n",
       "}\n",
       "\n",
       "// Register the function which deals with the matplotlib target/channel.\n",
       "// The kernel may be null if the page has been refreshed.\n",
       "if (IPython.notebook.kernel != null) {\n",
       "    IPython.notebook.kernel.comm_manager.register_target('matplotlib', mpl.mpl_figure_comm);\n",
       "}\n"
      ],
      "text/plain": [
       "<IPython.core.display.Javascript object>"
      ]
     },
     "metadata": {},
     "output_type": "display_data"
    },
    {
     "data": {
      "text/html": [
       "<img src=\"data:image/png;base64,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\">"
      ],
      "text/plain": [
       "<IPython.core.display.HTML object>"
      ]
     },
     "metadata": {},
     "output_type": "display_data"
    },
    {
     "data": {
      "text/plain": [
       "[<matplotlib.lines.Line2D at 0x1f0852e8>,\n",
       " <matplotlib.lines.Line2D at 0x1f085390>]"
      ]
     },
     "execution_count": 10,
     "metadata": {},
     "output_type": "execute_result"
    }
   ],
   "source": [
    "plt.plot(test_data['sqft_living'],test_data['price'],'.',\n",
    "        test_data['sqft_living'],sqft_model.predict(test_data),'-')"
   ]
  },
  {
   "cell_type": "markdown",
   "metadata": {},
   "source": [
    "Above:  blue dots are original data, green line is the prediction from the simple regression.\n",
    "\n",
    "Below: we can view the learned regression coefficients. "
   ]
  },
  {
   "cell_type": "code",
   "execution_count": 11,
   "metadata": {
    "collapsed": false
   },
   "outputs": [
    {
     "data": {
      "text/html": [
       "<div style=\"max-height:1000px;max-width:1500px;overflow:auto;\"><table frame=\"box\" rules=\"cols\">\n",
       "    <tr>\n",
       "        <th style=\"padding-left: 1em; padding-right: 1em; text-align: center\">name</th>\n",
       "        <th style=\"padding-left: 1em; padding-right: 1em; text-align: center\">index</th>\n",
       "        <th style=\"padding-left: 1em; padding-right: 1em; text-align: center\">value</th>\n",
       "        <th style=\"padding-left: 1em; padding-right: 1em; text-align: center\">stderr</th>\n",
       "    </tr>\n",
       "    <tr>\n",
       "        <td style=\"padding-left: 1em; padding-right: 1em; text-align: center; vertical-align: top\">(intercept)</td>\n",
       "        <td style=\"padding-left: 1em; padding-right: 1em; text-align: center; vertical-align: top\">None</td>\n",
       "        <td style=\"padding-left: 1em; padding-right: 1em; text-align: center; vertical-align: top\">-47114.0206702</td>\n",
       "        <td style=\"padding-left: 1em; padding-right: 1em; text-align: center; vertical-align: top\">4923.34437753</td>\n",
       "    </tr>\n",
       "    <tr>\n",
       "        <td style=\"padding-left: 1em; padding-right: 1em; text-align: center; vertical-align: top\">sqft_living</td>\n",
       "        <td style=\"padding-left: 1em; padding-right: 1em; text-align: center; vertical-align: top\">None</td>\n",
       "        <td style=\"padding-left: 1em; padding-right: 1em; text-align: center; vertical-align: top\">281.957850166</td>\n",
       "        <td style=\"padding-left: 1em; padding-right: 1em; text-align: center; vertical-align: top\">2.16405465323</td>\n",
       "    </tr>\n",
       "</table>\n",
       "[2 rows x 4 columns]<br/>\n",
       "</div>"
      ],
      "text/plain": [
       "Columns:\n",
       "\tname\tstr\n",
       "\tindex\tstr\n",
       "\tvalue\tfloat\n",
       "\tstderr\tfloat\n",
       "\n",
       "Rows: 2\n",
       "\n",
       "Data:\n",
       "+-------------+-------+----------------+---------------+\n",
       "|     name    | index |     value      |     stderr    |\n",
       "+-------------+-------+----------------+---------------+\n",
       "| (intercept) |  None | -47114.0206702 | 4923.34437753 |\n",
       "| sqft_living |  None | 281.957850166  | 2.16405465323 |\n",
       "+-------------+-------+----------------+---------------+\n",
       "[2 rows x 4 columns]"
      ]
     },
     "execution_count": 11,
     "metadata": {},
     "output_type": "execute_result"
    }
   ],
   "source": [
    "sqft_model.get('coefficients')"
   ]
  },
  {
   "cell_type": "markdown",
   "metadata": {},
   "source": [
    "# Explore other features in the data\n",
    "\n",
    "To build a more elaborate model, we will explore using more features."
   ]
  },
  {
   "cell_type": "code",
   "execution_count": 12,
   "metadata": {
    "collapsed": true
   },
   "outputs": [],
   "source": [
    "my_features = ['bedrooms', 'bathrooms', 'sqft_living', 'sqft_lot', 'floors', 'zipcode']"
   ]
  },
  {
   "cell_type": "code",
   "execution_count": 13,
   "metadata": {
    "collapsed": false
   },
   "outputs": [],
   "source": [
    "fzip = sales[(sales['sqft_living']>2000) & (sales['sqft_living']<4000)]"
   ]
  },
  {
   "cell_type": "code",
   "execution_count": 14,
   "metadata": {
    "collapsed": true
   },
   "outputs": [],
   "source": [
    "graphlab.canvas.set_target('browser')"
   ]
  },
  {
   "cell_type": "code",
   "execution_count": 15,
   "metadata": {
    "collapsed": false
   },
   "outputs": [
    {
     "name": "stdout",
     "output_type": "stream",
     "text": [
      "Canvas is accessible via web browser at the URL: http://localhost:51689/index.html\n",
      "Opening Canvas in default web browser.\n"
     ]
    }
   ],
   "source": [
    "fzip.show()\n"
   ]
  },
  {
   "cell_type": "code",
   "execution_count": 16,
   "metadata": {
    "collapsed": true
   },
   "outputs": [],
   "source": [
    "zip = sales[sales['zipcode']=='98039']"
   ]
  },
  {
   "cell_type": "code",
   "execution_count": 17,
   "metadata": {
    "collapsed": false,
    "scrolled": true
   },
   "outputs": [
    {
     "data": {
      "text/html": [
       "<div style=\"max-height:1000px;max-width:1500px;overflow:auto;\"><table frame=\"box\" rules=\"cols\">\n",
       "    <tr>\n",
       "        <th style=\"padding-left: 1em; padding-right: 1em; text-align: center\">id</th>\n",
       "        <th style=\"padding-left: 1em; padding-right: 1em; text-align: center\">date</th>\n",
       "        <th style=\"padding-left: 1em; padding-right: 1em; text-align: center\">price</th>\n",
       "        <th style=\"padding-left: 1em; padding-right: 1em; text-align: center\">bedrooms</th>\n",
       "        <th style=\"padding-left: 1em; padding-right: 1em; text-align: center\">bathrooms</th>\n",
       "        <th style=\"padding-left: 1em; padding-right: 1em; text-align: center\">sqft_living</th>\n",
       "        <th style=\"padding-left: 1em; padding-right: 1em; text-align: center\">sqft_lot</th>\n",
       "        <th style=\"padding-left: 1em; padding-right: 1em; text-align: center\">floors</th>\n",
       "        <th style=\"padding-left: 1em; padding-right: 1em; text-align: center\">waterfront</th>\n",
       "    </tr>\n",
       "    <tr>\n",
       "        <td style=\"padding-left: 1em; padding-right: 1em; text-align: center; vertical-align: top\">3625049014</td>\n",
       "        <td style=\"padding-left: 1em; padding-right: 1em; text-align: center; vertical-align: top\">2014-08-29 00:00:00+00:00</td>\n",
       "        <td style=\"padding-left: 1em; padding-right: 1em; text-align: center; vertical-align: top\">2950000</td>\n",
       "        <td style=\"padding-left: 1em; padding-right: 1em; text-align: center; vertical-align: top\">4</td>\n",
       "        <td style=\"padding-left: 1em; padding-right: 1em; text-align: center; vertical-align: top\">3.5</td>\n",
       "        <td style=\"padding-left: 1em; padding-right: 1em; text-align: center; vertical-align: top\">4860</td>\n",
       "        <td style=\"padding-left: 1em; padding-right: 1em; text-align: center; vertical-align: top\">23885</td>\n",
       "        <td style=\"padding-left: 1em; padding-right: 1em; text-align: center; vertical-align: top\">2</td>\n",
       "        <td style=\"padding-left: 1em; padding-right: 1em; text-align: center; vertical-align: top\">0</td>\n",
       "    </tr>\n",
       "    <tr>\n",
       "        <td style=\"padding-left: 1em; padding-right: 1em; text-align: center; vertical-align: top\">2540700110</td>\n",
       "        <td style=\"padding-left: 1em; padding-right: 1em; text-align: center; vertical-align: top\">2015-02-12 00:00:00+00:00</td>\n",
       "        <td style=\"padding-left: 1em; padding-right: 1em; text-align: center; vertical-align: top\">1905000</td>\n",
       "        <td style=\"padding-left: 1em; padding-right: 1em; text-align: center; vertical-align: top\">4</td>\n",
       "        <td style=\"padding-left: 1em; padding-right: 1em; text-align: center; vertical-align: top\">3.5</td>\n",
       "        <td style=\"padding-left: 1em; padding-right: 1em; text-align: center; vertical-align: top\">4210</td>\n",
       "        <td style=\"padding-left: 1em; padding-right: 1em; text-align: center; vertical-align: top\">18564</td>\n",
       "        <td style=\"padding-left: 1em; padding-right: 1em; text-align: center; vertical-align: top\">2</td>\n",
       "        <td style=\"padding-left: 1em; padding-right: 1em; text-align: center; vertical-align: top\">0</td>\n",
       "    </tr>\n",
       "    <tr>\n",
       "        <td style=\"padding-left: 1em; padding-right: 1em; text-align: center; vertical-align: top\">3262300940</td>\n",
       "        <td style=\"padding-left: 1em; padding-right: 1em; text-align: center; vertical-align: top\">2014-11-07 00:00:00+00:00</td>\n",
       "        <td style=\"padding-left: 1em; padding-right: 1em; text-align: center; vertical-align: top\">875000</td>\n",
       "        <td style=\"padding-left: 1em; padding-right: 1em; text-align: center; vertical-align: top\">3</td>\n",
       "        <td style=\"padding-left: 1em; padding-right: 1em; text-align: center; vertical-align: top\">1</td>\n",
       "        <td style=\"padding-left: 1em; padding-right: 1em; text-align: center; vertical-align: top\">1220</td>\n",
       "        <td style=\"padding-left: 1em; padding-right: 1em; text-align: center; vertical-align: top\">8119</td>\n",
       "        <td style=\"padding-left: 1em; padding-right: 1em; text-align: center; vertical-align: top\">1</td>\n",
       "        <td style=\"padding-left: 1em; padding-right: 1em; text-align: center; vertical-align: top\">0</td>\n",
       "    </tr>\n",
       "    <tr>\n",
       "        <td style=\"padding-left: 1em; padding-right: 1em; text-align: center; vertical-align: top\">3262300940</td>\n",
       "        <td style=\"padding-left: 1em; padding-right: 1em; text-align: center; vertical-align: top\">2015-02-10 00:00:00+00:00</td>\n",
       "        <td style=\"padding-left: 1em; padding-right: 1em; text-align: center; vertical-align: top\">940000</td>\n",
       "        <td style=\"padding-left: 1em; padding-right: 1em; text-align: center; vertical-align: top\">3</td>\n",
       "        <td style=\"padding-left: 1em; padding-right: 1em; text-align: center; vertical-align: top\">1</td>\n",
       "        <td style=\"padding-left: 1em; padding-right: 1em; text-align: center; vertical-align: top\">1220</td>\n",
       "        <td style=\"padding-left: 1em; padding-right: 1em; text-align: center; vertical-align: top\">8119</td>\n",
       "        <td style=\"padding-left: 1em; padding-right: 1em; text-align: center; vertical-align: top\">1</td>\n",
       "        <td style=\"padding-left: 1em; padding-right: 1em; text-align: center; vertical-align: top\">0</td>\n",
       "    </tr>\n",
       "    <tr>\n",
       "        <td style=\"padding-left: 1em; padding-right: 1em; text-align: center; vertical-align: top\">6447300265</td>\n",
       "        <td style=\"padding-left: 1em; padding-right: 1em; text-align: center; vertical-align: top\">2014-10-14 00:00:00+00:00</td>\n",
       "        <td style=\"padding-left: 1em; padding-right: 1em; text-align: center; vertical-align: top\">4000000</td>\n",
       "        <td style=\"padding-left: 1em; padding-right: 1em; text-align: center; vertical-align: top\">4</td>\n",
       "        <td style=\"padding-left: 1em; padding-right: 1em; text-align: center; vertical-align: top\">5.5</td>\n",
       "        <td style=\"padding-left: 1em; padding-right: 1em; text-align: center; vertical-align: top\">7080</td>\n",
       "        <td style=\"padding-left: 1em; padding-right: 1em; text-align: center; vertical-align: top\">16573</td>\n",
       "        <td style=\"padding-left: 1em; padding-right: 1em; text-align: center; vertical-align: top\">2</td>\n",
       "        <td style=\"padding-left: 1em; padding-right: 1em; text-align: center; vertical-align: top\">0</td>\n",
       "    </tr>\n",
       "    <tr>\n",
       "        <td style=\"padding-left: 1em; padding-right: 1em; text-align: center; vertical-align: top\">2470100110</td>\n",
       "        <td style=\"padding-left: 1em; padding-right: 1em; text-align: center; vertical-align: top\">2014-08-04 00:00:00+00:00</td>\n",
       "        <td style=\"padding-left: 1em; padding-right: 1em; text-align: center; vertical-align: top\">5570000</td>\n",
       "        <td style=\"padding-left: 1em; padding-right: 1em; text-align: center; vertical-align: top\">5</td>\n",
       "        <td style=\"padding-left: 1em; padding-right: 1em; text-align: center; vertical-align: top\">5.75</td>\n",
       "        <td style=\"padding-left: 1em; padding-right: 1em; text-align: center; vertical-align: top\">9200</td>\n",
       "        <td style=\"padding-left: 1em; padding-right: 1em; text-align: center; vertical-align: top\">35069</td>\n",
       "        <td style=\"padding-left: 1em; padding-right: 1em; text-align: center; vertical-align: top\">2</td>\n",
       "        <td style=\"padding-left: 1em; padding-right: 1em; text-align: center; vertical-align: top\">0</td>\n",
       "    </tr>\n",
       "    <tr>\n",
       "        <td style=\"padding-left: 1em; padding-right: 1em; text-align: center; vertical-align: top\">2210500019</td>\n",
       "        <td style=\"padding-left: 1em; padding-right: 1em; text-align: center; vertical-align: top\">2015-03-24 00:00:00+00:00</td>\n",
       "        <td style=\"padding-left: 1em; padding-right: 1em; text-align: center; vertical-align: top\">937500</td>\n",
       "        <td style=\"padding-left: 1em; padding-right: 1em; text-align: center; vertical-align: top\">3</td>\n",
       "        <td style=\"padding-left: 1em; padding-right: 1em; text-align: center; vertical-align: top\">1</td>\n",
       "        <td style=\"padding-left: 1em; padding-right: 1em; text-align: center; vertical-align: top\">1320</td>\n",
       "        <td style=\"padding-left: 1em; padding-right: 1em; text-align: center; vertical-align: top\">8500</td>\n",
       "        <td style=\"padding-left: 1em; padding-right: 1em; text-align: center; vertical-align: top\">1</td>\n",
       "        <td style=\"padding-left: 1em; padding-right: 1em; text-align: center; vertical-align: top\">0</td>\n",
       "    </tr>\n",
       "    <tr>\n",
       "        <td style=\"padding-left: 1em; padding-right: 1em; text-align: center; vertical-align: top\">6447300345</td>\n",
       "        <td style=\"padding-left: 1em; padding-right: 1em; text-align: center; vertical-align: top\">2015-04-06 00:00:00+00:00</td>\n",
       "        <td style=\"padding-left: 1em; padding-right: 1em; text-align: center; vertical-align: top\">1160000</td>\n",
       "        <td style=\"padding-left: 1em; padding-right: 1em; text-align: center; vertical-align: top\">4</td>\n",
       "        <td style=\"padding-left: 1em; padding-right: 1em; text-align: center; vertical-align: top\">3</td>\n",
       "        <td style=\"padding-left: 1em; padding-right: 1em; text-align: center; vertical-align: top\">2680</td>\n",
       "        <td style=\"padding-left: 1em; padding-right: 1em; text-align: center; vertical-align: top\">15438</td>\n",
       "        <td style=\"padding-left: 1em; padding-right: 1em; text-align: center; vertical-align: top\">2</td>\n",
       "        <td style=\"padding-left: 1em; padding-right: 1em; text-align: center; vertical-align: top\">0</td>\n",
       "    </tr>\n",
       "    <tr>\n",
       "        <td style=\"padding-left: 1em; padding-right: 1em; text-align: center; vertical-align: top\">6447300225</td>\n",
       "        <td style=\"padding-left: 1em; padding-right: 1em; text-align: center; vertical-align: top\">2014-11-06 00:00:00+00:00</td>\n",
       "        <td style=\"padding-left: 1em; padding-right: 1em; text-align: center; vertical-align: top\">1880000</td>\n",
       "        <td style=\"padding-left: 1em; padding-right: 1em; text-align: center; vertical-align: top\">3</td>\n",
       "        <td style=\"padding-left: 1em; padding-right: 1em; text-align: center; vertical-align: top\">2.75</td>\n",
       "        <td style=\"padding-left: 1em; padding-right: 1em; text-align: center; vertical-align: top\">2620</td>\n",
       "        <td style=\"padding-left: 1em; padding-right: 1em; text-align: center; vertical-align: top\">17919</td>\n",
       "        <td style=\"padding-left: 1em; padding-right: 1em; text-align: center; vertical-align: top\">1</td>\n",
       "        <td style=\"padding-left: 1em; padding-right: 1em; text-align: center; vertical-align: top\">0</td>\n",
       "    </tr>\n",
       "    <tr>\n",
       "        <td style=\"padding-left: 1em; padding-right: 1em; text-align: center; vertical-align: top\">2525049148</td>\n",
       "        <td style=\"padding-left: 1em; padding-right: 1em; text-align: center; vertical-align: top\">2014-10-07 00:00:00+00:00</td>\n",
       "        <td style=\"padding-left: 1em; padding-right: 1em; text-align: center; vertical-align: top\">3418800</td>\n",
       "        <td style=\"padding-left: 1em; padding-right: 1em; text-align: center; vertical-align: top\">5</td>\n",
       "        <td style=\"padding-left: 1em; padding-right: 1em; text-align: center; vertical-align: top\">5</td>\n",
       "        <td style=\"padding-left: 1em; padding-right: 1em; text-align: center; vertical-align: top\">5450</td>\n",
       "        <td style=\"padding-left: 1em; padding-right: 1em; text-align: center; vertical-align: top\">20412</td>\n",
       "        <td style=\"padding-left: 1em; padding-right: 1em; text-align: center; vertical-align: top\">2</td>\n",
       "        <td style=\"padding-left: 1em; padding-right: 1em; text-align: center; vertical-align: top\">0</td>\n",
       "    </tr>\n",
       "</table>\n",
       "<table frame=\"box\" rules=\"cols\">\n",
       "    <tr>\n",
       "        <th style=\"padding-left: 1em; padding-right: 1em; text-align: center\">view</th>\n",
       "        <th style=\"padding-left: 1em; padding-right: 1em; text-align: center\">condition</th>\n",
       "        <th style=\"padding-left: 1em; padding-right: 1em; text-align: center\">grade</th>\n",
       "        <th style=\"padding-left: 1em; padding-right: 1em; text-align: center\">sqft_above</th>\n",
       "        <th style=\"padding-left: 1em; padding-right: 1em; text-align: center\">sqft_basement</th>\n",
       "        <th style=\"padding-left: 1em; padding-right: 1em; text-align: center\">yr_built</th>\n",
       "        <th style=\"padding-left: 1em; padding-right: 1em; text-align: center\">yr_renovated</th>\n",
       "        <th style=\"padding-left: 1em; padding-right: 1em; text-align: center\">zipcode</th>\n",
       "        <th style=\"padding-left: 1em; padding-right: 1em; text-align: center\">lat</th>\n",
       "    </tr>\n",
       "    <tr>\n",
       "        <td style=\"padding-left: 1em; padding-right: 1em; text-align: center; vertical-align: top\">0</td>\n",
       "        <td style=\"padding-left: 1em; padding-right: 1em; text-align: center; vertical-align: top\">3</td>\n",
       "        <td style=\"padding-left: 1em; padding-right: 1em; text-align: center; vertical-align: top\">12</td>\n",
       "        <td style=\"padding-left: 1em; padding-right: 1em; text-align: center; vertical-align: top\">4860</td>\n",
       "        <td style=\"padding-left: 1em; padding-right: 1em; text-align: center; vertical-align: top\">0</td>\n",
       "        <td style=\"padding-left: 1em; padding-right: 1em; text-align: center; vertical-align: top\">1996</td>\n",
       "        <td style=\"padding-left: 1em; padding-right: 1em; text-align: center; vertical-align: top\">0</td>\n",
       "        <td style=\"padding-left: 1em; padding-right: 1em; text-align: center; vertical-align: top\">98039</td>\n",
       "        <td style=\"padding-left: 1em; padding-right: 1em; text-align: center; vertical-align: top\">47.61717049</td>\n",
       "    </tr>\n",
       "    <tr>\n",
       "        <td style=\"padding-left: 1em; padding-right: 1em; text-align: center; vertical-align: top\">0</td>\n",
       "        <td style=\"padding-left: 1em; padding-right: 1em; text-align: center; vertical-align: top\">3</td>\n",
       "        <td style=\"padding-left: 1em; padding-right: 1em; text-align: center; vertical-align: top\">11</td>\n",
       "        <td style=\"padding-left: 1em; padding-right: 1em; text-align: center; vertical-align: top\">4210</td>\n",
       "        <td style=\"padding-left: 1em; padding-right: 1em; text-align: center; vertical-align: top\">0</td>\n",
       "        <td style=\"padding-left: 1em; padding-right: 1em; text-align: center; vertical-align: top\">2001</td>\n",
       "        <td style=\"padding-left: 1em; padding-right: 1em; text-align: center; vertical-align: top\">0</td>\n",
       "        <td style=\"padding-left: 1em; padding-right: 1em; text-align: center; vertical-align: top\">98039</td>\n",
       "        <td style=\"padding-left: 1em; padding-right: 1em; text-align: center; vertical-align: top\">47.62060082</td>\n",
       "    </tr>\n",
       "    <tr>\n",
       "        <td style=\"padding-left: 1em; padding-right: 1em; text-align: center; vertical-align: top\">0</td>\n",
       "        <td style=\"padding-left: 1em; padding-right: 1em; text-align: center; vertical-align: top\">4</td>\n",
       "        <td style=\"padding-left: 1em; padding-right: 1em; text-align: center; vertical-align: top\">7</td>\n",
       "        <td style=\"padding-left: 1em; padding-right: 1em; text-align: center; vertical-align: top\">1220</td>\n",
       "        <td style=\"padding-left: 1em; padding-right: 1em; text-align: center; vertical-align: top\">0</td>\n",
       "        <td style=\"padding-left: 1em; padding-right: 1em; text-align: center; vertical-align: top\">1955</td>\n",
       "        <td style=\"padding-left: 1em; padding-right: 1em; text-align: center; vertical-align: top\">0</td>\n",
       "        <td style=\"padding-left: 1em; padding-right: 1em; text-align: center; vertical-align: top\">98039</td>\n",
       "        <td style=\"padding-left: 1em; padding-right: 1em; text-align: center; vertical-align: top\">47.63281908</td>\n",
       "    </tr>\n",
       "    <tr>\n",
       "        <td style=\"padding-left: 1em; padding-right: 1em; text-align: center; vertical-align: top\">0</td>\n",
       "        <td style=\"padding-left: 1em; padding-right: 1em; text-align: center; vertical-align: top\">4</td>\n",
       "        <td style=\"padding-left: 1em; padding-right: 1em; text-align: center; vertical-align: top\">7</td>\n",
       "        <td style=\"padding-left: 1em; padding-right: 1em; text-align: center; vertical-align: top\">1220</td>\n",
       "        <td style=\"padding-left: 1em; padding-right: 1em; text-align: center; vertical-align: top\">0</td>\n",
       "        <td style=\"padding-left: 1em; padding-right: 1em; text-align: center; vertical-align: top\">1955</td>\n",
       "        <td style=\"padding-left: 1em; padding-right: 1em; text-align: center; vertical-align: top\">0</td>\n",
       "        <td style=\"padding-left: 1em; padding-right: 1em; text-align: center; vertical-align: top\">98039</td>\n",
       "        <td style=\"padding-left: 1em; padding-right: 1em; text-align: center; vertical-align: top\">47.63281908</td>\n",
       "    </tr>\n",
       "    <tr>\n",
       "        <td style=\"padding-left: 1em; padding-right: 1em; text-align: center; vertical-align: top\">0</td>\n",
       "        <td style=\"padding-left: 1em; padding-right: 1em; text-align: center; vertical-align: top\">3</td>\n",
       "        <td style=\"padding-left: 1em; padding-right: 1em; text-align: center; vertical-align: top\">12</td>\n",
       "        <td style=\"padding-left: 1em; padding-right: 1em; text-align: center; vertical-align: top\">5760</td>\n",
       "        <td style=\"padding-left: 1em; padding-right: 1em; text-align: center; vertical-align: top\">1320</td>\n",
       "        <td style=\"padding-left: 1em; padding-right: 1em; text-align: center; vertical-align: top\">2008</td>\n",
       "        <td style=\"padding-left: 1em; padding-right: 1em; text-align: center; vertical-align: top\">0</td>\n",
       "        <td style=\"padding-left: 1em; padding-right: 1em; text-align: center; vertical-align: top\">98039</td>\n",
       "        <td style=\"padding-left: 1em; padding-right: 1em; text-align: center; vertical-align: top\">47.61512031</td>\n",
       "    </tr>\n",
       "    <tr>\n",
       "        <td style=\"padding-left: 1em; padding-right: 1em; text-align: center; vertical-align: top\">0</td>\n",
       "        <td style=\"padding-left: 1em; padding-right: 1em; text-align: center; vertical-align: top\">3</td>\n",
       "        <td style=\"padding-left: 1em; padding-right: 1em; text-align: center; vertical-align: top\">13</td>\n",
       "        <td style=\"padding-left: 1em; padding-right: 1em; text-align: center; vertical-align: top\">6200</td>\n",
       "        <td style=\"padding-left: 1em; padding-right: 1em; text-align: center; vertical-align: top\">3000</td>\n",
       "        <td style=\"padding-left: 1em; padding-right: 1em; text-align: center; vertical-align: top\">2001</td>\n",
       "        <td style=\"padding-left: 1em; padding-right: 1em; text-align: center; vertical-align: top\">0</td>\n",
       "        <td style=\"padding-left: 1em; padding-right: 1em; text-align: center; vertical-align: top\">98039</td>\n",
       "        <td style=\"padding-left: 1em; padding-right: 1em; text-align: center; vertical-align: top\">47.62888314</td>\n",
       "    </tr>\n",
       "    <tr>\n",
       "        <td style=\"padding-left: 1em; padding-right: 1em; text-align: center; vertical-align: top\">0</td>\n",
       "        <td style=\"padding-left: 1em; padding-right: 1em; text-align: center; vertical-align: top\">4</td>\n",
       "        <td style=\"padding-left: 1em; padding-right: 1em; text-align: center; vertical-align: top\">7</td>\n",
       "        <td style=\"padding-left: 1em; padding-right: 1em; text-align: center; vertical-align: top\">1320</td>\n",
       "        <td style=\"padding-left: 1em; padding-right: 1em; text-align: center; vertical-align: top\">0</td>\n",
       "        <td style=\"padding-left: 1em; padding-right: 1em; text-align: center; vertical-align: top\">1954</td>\n",
       "        <td style=\"padding-left: 1em; padding-right: 1em; text-align: center; vertical-align: top\">0</td>\n",
       "        <td style=\"padding-left: 1em; padding-right: 1em; text-align: center; vertical-align: top\">98039</td>\n",
       "        <td style=\"padding-left: 1em; padding-right: 1em; text-align: center; vertical-align: top\">47.61872888</td>\n",
       "    </tr>\n",
       "    <tr>\n",
       "        <td style=\"padding-left: 1em; padding-right: 1em; text-align: center; vertical-align: top\">2</td>\n",
       "        <td style=\"padding-left: 1em; padding-right: 1em; text-align: center; vertical-align: top\">3</td>\n",
       "        <td style=\"padding-left: 1em; padding-right: 1em; text-align: center; vertical-align: top\">8</td>\n",
       "        <td style=\"padding-left: 1em; padding-right: 1em; text-align: center; vertical-align: top\">2680</td>\n",
       "        <td style=\"padding-left: 1em; padding-right: 1em; text-align: center; vertical-align: top\">0</td>\n",
       "        <td style=\"padding-left: 1em; padding-right: 1em; text-align: center; vertical-align: top\">1902</td>\n",
       "        <td style=\"padding-left: 1em; padding-right: 1em; text-align: center; vertical-align: top\">1956</td>\n",
       "        <td style=\"padding-left: 1em; padding-right: 1em; text-align: center; vertical-align: top\">98039</td>\n",
       "        <td style=\"padding-left: 1em; padding-right: 1em; text-align: center; vertical-align: top\">47.61089438</td>\n",
       "    </tr>\n",
       "    <tr>\n",
       "        <td style=\"padding-left: 1em; padding-right: 1em; text-align: center; vertical-align: top\">1</td>\n",
       "        <td style=\"padding-left: 1em; padding-right: 1em; text-align: center; vertical-align: top\">4</td>\n",
       "        <td style=\"padding-left: 1em; padding-right: 1em; text-align: center; vertical-align: top\">9</td>\n",
       "        <td style=\"padding-left: 1em; padding-right: 1em; text-align: center; vertical-align: top\">2620</td>\n",
       "        <td style=\"padding-left: 1em; padding-right: 1em; text-align: center; vertical-align: top\">0</td>\n",
       "        <td style=\"padding-left: 1em; padding-right: 1em; text-align: center; vertical-align: top\">1949</td>\n",
       "        <td style=\"padding-left: 1em; padding-right: 1em; text-align: center; vertical-align: top\">0</td>\n",
       "        <td style=\"padding-left: 1em; padding-right: 1em; text-align: center; vertical-align: top\">98039</td>\n",
       "        <td style=\"padding-left: 1em; padding-right: 1em; text-align: center; vertical-align: top\">47.61435052</td>\n",
       "    </tr>\n",
       "    <tr>\n",
       "        <td style=\"padding-left: 1em; padding-right: 1em; text-align: center; vertical-align: top\">0</td>\n",
       "        <td style=\"padding-left: 1em; padding-right: 1em; text-align: center; vertical-align: top\">3</td>\n",
       "        <td style=\"padding-left: 1em; padding-right: 1em; text-align: center; vertical-align: top\">11</td>\n",
       "        <td style=\"padding-left: 1em; padding-right: 1em; text-align: center; vertical-align: top\">5450</td>\n",
       "        <td style=\"padding-left: 1em; padding-right: 1em; text-align: center; vertical-align: top\">0</td>\n",
       "        <td style=\"padding-left: 1em; padding-right: 1em; text-align: center; vertical-align: top\">2014</td>\n",
       "        <td style=\"padding-left: 1em; padding-right: 1em; text-align: center; vertical-align: top\">0</td>\n",
       "        <td style=\"padding-left: 1em; padding-right: 1em; text-align: center; vertical-align: top\">98039</td>\n",
       "        <td style=\"padding-left: 1em; padding-right: 1em; text-align: center; vertical-align: top\">47.62087993</td>\n",
       "    </tr>\n",
       "</table>\n",
       "<table frame=\"box\" rules=\"cols\">\n",
       "    <tr>\n",
       "        <th style=\"padding-left: 1em; padding-right: 1em; text-align: center\">long</th>\n",
       "        <th style=\"padding-left: 1em; padding-right: 1em; text-align: center\">sqft_living15</th>\n",
       "        <th style=\"padding-left: 1em; padding-right: 1em; text-align: center\">sqft_lot15</th>\n",
       "    </tr>\n",
       "    <tr>\n",
       "        <td style=\"padding-left: 1em; padding-right: 1em; text-align: center; vertical-align: top\">-122.23040939</td>\n",
       "        <td style=\"padding-left: 1em; padding-right: 1em; text-align: center; vertical-align: top\">3580.0</td>\n",
       "        <td style=\"padding-left: 1em; padding-right: 1em; text-align: center; vertical-align: top\">16054.0</td>\n",
       "    </tr>\n",
       "    <tr>\n",
       "        <td style=\"padding-left: 1em; padding-right: 1em; text-align: center; vertical-align: top\">-122.2245047</td>\n",
       "        <td style=\"padding-left: 1em; padding-right: 1em; text-align: center; vertical-align: top\">3520.0</td>\n",
       "        <td style=\"padding-left: 1em; padding-right: 1em; text-align: center; vertical-align: top\">18564.0</td>\n",
       "    </tr>\n",
       "    <tr>\n",
       "        <td style=\"padding-left: 1em; padding-right: 1em; text-align: center; vertical-align: top\">-122.23554392</td>\n",
       "        <td style=\"padding-left: 1em; padding-right: 1em; text-align: center; vertical-align: top\">1910.0</td>\n",
       "        <td style=\"padding-left: 1em; padding-right: 1em; text-align: center; vertical-align: top\">8119.0</td>\n",
       "    </tr>\n",
       "    <tr>\n",
       "        <td style=\"padding-left: 1em; padding-right: 1em; text-align: center; vertical-align: top\">-122.23554392</td>\n",
       "        <td style=\"padding-left: 1em; padding-right: 1em; text-align: center; vertical-align: top\">1910.0</td>\n",
       "        <td style=\"padding-left: 1em; padding-right: 1em; text-align: center; vertical-align: top\">8119.0</td>\n",
       "    </tr>\n",
       "    <tr>\n",
       "        <td style=\"padding-left: 1em; padding-right: 1em; text-align: center; vertical-align: top\">-122.22420058</td>\n",
       "        <td style=\"padding-left: 1em; padding-right: 1em; text-align: center; vertical-align: top\">3140.0</td>\n",
       "        <td style=\"padding-left: 1em; padding-right: 1em; text-align: center; vertical-align: top\">15996.0</td>\n",
       "    </tr>\n",
       "    <tr>\n",
       "        <td style=\"padding-left: 1em; padding-right: 1em; text-align: center; vertical-align: top\">-122.23346379</td>\n",
       "        <td style=\"padding-left: 1em; padding-right: 1em; text-align: center; vertical-align: top\">3560.0</td>\n",
       "        <td style=\"padding-left: 1em; padding-right: 1em; text-align: center; vertical-align: top\">24345.0</td>\n",
       "    </tr>\n",
       "    <tr>\n",
       "        <td style=\"padding-left: 1em; padding-right: 1em; text-align: center; vertical-align: top\">-122.22643371</td>\n",
       "        <td style=\"padding-left: 1em; padding-right: 1em; text-align: center; vertical-align: top\">2790.0</td>\n",
       "        <td style=\"padding-left: 1em; padding-right: 1em; text-align: center; vertical-align: top\">10800.0</td>\n",
       "    </tr>\n",
       "    <tr>\n",
       "        <td style=\"padding-left: 1em; padding-right: 1em; text-align: center; vertical-align: top\">-122.22582388</td>\n",
       "        <td style=\"padding-left: 1em; padding-right: 1em; text-align: center; vertical-align: top\">4480.0</td>\n",
       "        <td style=\"padding-left: 1em; padding-right: 1em; text-align: center; vertical-align: top\">14406.0</td>\n",
       "    </tr>\n",
       "    <tr>\n",
       "        <td style=\"padding-left: 1em; padding-right: 1em; text-align: center; vertical-align: top\">-122.22772057</td>\n",
       "        <td style=\"padding-left: 1em; padding-right: 1em; text-align: center; vertical-align: top\">3400.0</td>\n",
       "        <td style=\"padding-left: 1em; padding-right: 1em; text-align: center; vertical-align: top\">14400.0</td>\n",
       "    </tr>\n",
       "    <tr>\n",
       "        <td style=\"padding-left: 1em; padding-right: 1em; text-align: center; vertical-align: top\">-122.23726918</td>\n",
       "        <td style=\"padding-left: 1em; padding-right: 1em; text-align: center; vertical-align: top\">3160.0</td>\n",
       "        <td style=\"padding-left: 1em; padding-right: 1em; text-align: center; vertical-align: top\">17825.0</td>\n",
       "    </tr>\n",
       "</table>\n",
       "[? rows x 21 columns]<br/>Note: Only the head of the SFrame is printed. This SFrame is lazily evaluated.<br/>You can use sf.materialize() to force materialization.\n",
       "</div>"
      ],
      "text/plain": [
       "Columns:\n",
       "\tid\tstr\n",
       "\tdate\tdatetime\n",
       "\tprice\tint\n",
       "\tbedrooms\tstr\n",
       "\tbathrooms\tstr\n",
       "\tsqft_living\tint\n",
       "\tsqft_lot\tint\n",
       "\tfloors\tstr\n",
       "\twaterfront\tint\n",
       "\tview\tint\n",
       "\tcondition\tint\n",
       "\tgrade\tint\n",
       "\tsqft_above\tint\n",
       "\tsqft_basement\tint\n",
       "\tyr_built\tint\n",
       "\tyr_renovated\tint\n",
       "\tzipcode\tstr\n",
       "\tlat\tfloat\n",
       "\tlong\tfloat\n",
       "\tsqft_living15\tfloat\n",
       "\tsqft_lot15\tfloat\n",
       "\n",
       "Rows: Unknown\n",
       "\n",
       "Data:\n",
       "+------------+---------------------------+---------+----------+-----------+-------------+\n",
       "|     id     |            date           |  price  | bedrooms | bathrooms | sqft_living |\n",
       "+------------+---------------------------+---------+----------+-----------+-------------+\n",
       "| 3625049014 | 2014-08-29 00:00:00+00:00 | 2950000 |    4     |    3.5    |     4860    |\n",
       "| 2540700110 | 2015-02-12 00:00:00+00:00 | 1905000 |    4     |    3.5    |     4210    |\n",
       "| 3262300940 | 2014-11-07 00:00:00+00:00 |  875000 |    3     |     1     |     1220    |\n",
       "| 3262300940 | 2015-02-10 00:00:00+00:00 |  940000 |    3     |     1     |     1220    |\n",
       "| 6447300265 | 2014-10-14 00:00:00+00:00 | 4000000 |    4     |    5.5    |     7080    |\n",
       "| 2470100110 | 2014-08-04 00:00:00+00:00 | 5570000 |    5     |    5.75   |     9200    |\n",
       "| 2210500019 | 2015-03-24 00:00:00+00:00 |  937500 |    3     |     1     |     1320    |\n",
       "| 6447300345 | 2015-04-06 00:00:00+00:00 | 1160000 |    4     |     3     |     2680    |\n",
       "| 6447300225 | 2014-11-06 00:00:00+00:00 | 1880000 |    3     |    2.75   |     2620    |\n",
       "| 2525049148 | 2014-10-07 00:00:00+00:00 | 3418800 |    5     |     5     |     5450    |\n",
       "+------------+---------------------------+---------+----------+-----------+-------------+\n",
       "+----------+--------+------------+------+-----------+-------+------------+---------------+\n",
       "| sqft_lot | floors | waterfront | view | condition | grade | sqft_above | sqft_basement |\n",
       "+----------+--------+------------+------+-----------+-------+------------+---------------+\n",
       "|  23885   |   2    |     0      |  0   |     3     |   12  |    4860    |       0       |\n",
       "|  18564   |   2    |     0      |  0   |     3     |   11  |    4210    |       0       |\n",
       "|   8119   |   1    |     0      |  0   |     4     |   7   |    1220    |       0       |\n",
       "|   8119   |   1    |     0      |  0   |     4     |   7   |    1220    |       0       |\n",
       "|  16573   |   2    |     0      |  0   |     3     |   12  |    5760    |      1320     |\n",
       "|  35069   |   2    |     0      |  0   |     3     |   13  |    6200    |      3000     |\n",
       "|   8500   |   1    |     0      |  0   |     4     |   7   |    1320    |       0       |\n",
       "|  15438   |   2    |     0      |  2   |     3     |   8   |    2680    |       0       |\n",
       "|  17919   |   1    |     0      |  1   |     4     |   9   |    2620    |       0       |\n",
       "|  20412   |   2    |     0      |  0   |     3     |   11  |    5450    |       0       |\n",
       "+----------+--------+------------+------+-----------+-------+------------+---------------+\n",
       "+----------+--------------+---------+-------------+---------------+---------------+-----+\n",
       "| yr_built | yr_renovated | zipcode |     lat     |      long     | sqft_living15 | ... |\n",
       "+----------+--------------+---------+-------------+---------------+---------------+-----+\n",
       "|   1996   |      0       |  98039  | 47.61717049 | -122.23040939 |     3580.0    | ... |\n",
       "|   2001   |      0       |  98039  | 47.62060082 |  -122.2245047 |     3520.0    | ... |\n",
       "|   1955   |      0       |  98039  | 47.63281908 | -122.23554392 |     1910.0    | ... |\n",
       "|   1955   |      0       |  98039  | 47.63281908 | -122.23554392 |     1910.0    | ... |\n",
       "|   2008   |      0       |  98039  | 47.61512031 | -122.22420058 |     3140.0    | ... |\n",
       "|   2001   |      0       |  98039  | 47.62888314 | -122.23346379 |     3560.0    | ... |\n",
       "|   1954   |      0       |  98039  | 47.61872888 | -122.22643371 |     2790.0    | ... |\n",
       "|   1902   |     1956     |  98039  | 47.61089438 | -122.22582388 |     4480.0    | ... |\n",
       "|   1949   |      0       |  98039  | 47.61435052 | -122.22772057 |     3400.0    | ... |\n",
       "|   2014   |      0       |  98039  | 47.62087993 | -122.23726918 |     3160.0    | ... |\n",
       "+----------+--------------+---------+-------------+---------------+---------------+-----+\n",
       "[? rows x 21 columns]\n",
       "Note: Only the head of the SFrame is printed. This SFrame is lazily evaluated.\n",
       "You can use sf.materialize() to force materialization."
      ]
     },
     "execution_count": 17,
     "metadata": {},
     "output_type": "execute_result"
    }
   ],
   "source": [
    "zip\n"
   ]
  },
  {
   "cell_type": "code",
   "execution_count": 18,
   "metadata": {
    "collapsed": false
   },
   "outputs": [
    {
     "name": "stdout",
     "output_type": "stream",
     "text": [
      "Canvas is accessible via web browser at the URL: http://localhost:51689/index.html\n",
      "Opening Canvas in default web browser.\n"
     ]
    }
   ],
   "source": [
    "zip.show(view='BoxWhisker Plot', x='zipcode', y='price')"
   ]
  },
  {
   "cell_type": "code",
   "execution_count": 19,
   "metadata": {
    "collapsed": false
   },
   "outputs": [
    {
     "name": "stdout",
     "output_type": "stream",
     "text": [
      "Canvas is updated and available in a tab in the default browser.\n"
     ]
    }
   ],
   "source": [
    "sales[my_features].show()"
   ]
  },
  {
   "cell_type": "code",
   "execution_count": 20,
   "metadata": {
    "collapsed": false
   },
   "outputs": [
    {
     "name": "stdout",
     "output_type": "stream",
     "text": [
      "Canvas is accessible via web browser at the URL: http://localhost:51689/index.html\n",
      "Opening Canvas in default web browser.\n"
     ]
    }
   ],
   "source": [
    "sales.show(view='BoxWhisker Plot', x='zipcode', y='price')"
   ]
  },
  {
   "cell_type": "markdown",
   "metadata": {},
   "source": [
    "Pull the bar at the bottom to view more of the data.  \n",
    "\n",
    "98039 is the most expensive zip code."
   ]
  },
  {
   "cell_type": "markdown",
   "metadata": {},
   "source": [
    "#Build a regression model with more features"
   ]
  },
  {
   "cell_type": "code",
   "execution_count": 21,
   "metadata": {
    "collapsed": false
   },
   "outputs": [
    {
     "data": {
      "text/html": [
       "<pre>Linear regression:</pre>"
      ],
      "text/plain": [
       "Linear regression:"
      ]
     },
     "metadata": {},
     "output_type": "display_data"
    },
    {
     "data": {
      "text/html": [
       "<pre>--------------------------------------------------------</pre>"
      ],
      "text/plain": [
       "--------------------------------------------------------"
      ]
     },
     "metadata": {},
     "output_type": "display_data"
    },
    {
     "data": {
      "text/html": [
       "<pre>Number of examples          : 17384</pre>"
      ],
      "text/plain": [
       "Number of examples          : 17384"
      ]
     },
     "metadata": {},
     "output_type": "display_data"
    },
    {
     "data": {
      "text/html": [
       "<pre>Number of features          : 6</pre>"
      ],
      "text/plain": [
       "Number of features          : 6"
      ]
     },
     "metadata": {},
     "output_type": "display_data"
    },
    {
     "data": {
      "text/html": [
       "<pre>Number of unpacked features : 6</pre>"
      ],
      "text/plain": [
       "Number of unpacked features : 6"
      ]
     },
     "metadata": {},
     "output_type": "display_data"
    },
    {
     "data": {
      "text/html": [
       "<pre>Number of coefficients    : 115</pre>"
      ],
      "text/plain": [
       "Number of coefficients    : 115"
      ]
     },
     "metadata": {},
     "output_type": "display_data"
    },
    {
     "data": {
      "text/html": [
       "<pre>Starting Newton Method</pre>"
      ],
      "text/plain": [
       "Starting Newton Method"
      ]
     },
     "metadata": {},
     "output_type": "display_data"
    },
    {
     "data": {
      "text/html": [
       "<pre>--------------------------------------------------------</pre>"
      ],
      "text/plain": [
       "--------------------------------------------------------"
      ]
     },
     "metadata": {},
     "output_type": "display_data"
    },
    {
     "data": {
      "text/html": [
       "<pre>+-----------+----------+--------------+--------------------+---------------+</pre>"
      ],
      "text/plain": [
       "+-----------+----------+--------------+--------------------+---------------+"
      ]
     },
     "metadata": {},
     "output_type": "display_data"
    },
    {
     "data": {
      "text/html": [
       "<pre>| Iteration | Passes   | Elapsed Time | Training-max_error | Training-rmse |</pre>"
      ],
      "text/plain": [
       "| Iteration | Passes   | Elapsed Time | Training-max_error | Training-rmse |"
      ]
     },
     "metadata": {},
     "output_type": "display_data"
    },
    {
     "data": {
      "text/html": [
       "<pre>+-----------+----------+--------------+--------------------+---------------+</pre>"
      ],
      "text/plain": [
       "+-----------+----------+--------------+--------------------+---------------+"
      ]
     },
     "metadata": {},
     "output_type": "display_data"
    },
    {
     "data": {
      "text/html": [
       "<pre>| 1         | 2        | 0.035045     | 3763208.270523     | 181908.848367 |</pre>"
      ],
      "text/plain": [
       "| 1         | 2        | 0.035045     | 3763208.270523     | 181908.848367 |"
      ]
     },
     "metadata": {},
     "output_type": "display_data"
    },
    {
     "data": {
      "text/html": [
       "<pre>+-----------+----------+--------------+--------------------+---------------+</pre>"
      ],
      "text/plain": [
       "+-----------+----------+--------------+--------------------+---------------+"
      ]
     },
     "metadata": {},
     "output_type": "display_data"
    },
    {
     "data": {
      "text/html": [
       "<pre>SUCCESS: Optimal solution found.</pre>"
      ],
      "text/plain": [
       "SUCCESS: Optimal solution found."
      ]
     },
     "metadata": {},
     "output_type": "display_data"
    },
    {
     "data": {
      "text/html": [
       "<pre></pre>"
      ],
      "text/plain": []
     },
     "metadata": {},
     "output_type": "display_data"
    }
   ],
   "source": [
    "my_features_model = graphlab.linear_regression.create(train_data,target='price',features=my_features,validation_set=None)"
   ]
  },
  {
   "cell_type": "code",
   "execution_count": 22,
   "metadata": {
    "collapsed": false,
    "scrolled": true
   },
   "outputs": [
    {
     "name": "stdout",
     "output_type": "stream",
     "text": [
      "['bedrooms', 'bathrooms', 'sqft_living', 'sqft_lot', 'floors', 'zipcode']\n"
     ]
    }
   ],
   "source": [
    "print my_features"
   ]
  },
  {
   "cell_type": "code",
   "execution_count": 23,
   "metadata": {
    "collapsed": false
   },
   "outputs": [],
   "source": [
    "advanced_features = ['bedrooms', 'bathrooms', 'sqft_living', 'sqft_lot', 'floors', 'zipcode', 'condition', 'grade',\n",
    "                    'waterfront', 'view', 'sqft_above', 'sqft_basement', 'yr_built', 'yr_renovated', 'lat', 'long',\n",
    "                    'sqft_living15', 'sqft_lot15']"
   ]
  },
  {
   "cell_type": "code",
   "execution_count": 24,
   "metadata": {
    "collapsed": false,
    "scrolled": false
   },
   "outputs": [
    {
     "data": {
      "text/html": [
       "<pre>Linear regression:</pre>"
      ],
      "text/plain": [
       "Linear regression:"
      ]
     },
     "metadata": {},
     "output_type": "display_data"
    },
    {
     "data": {
      "text/html": [
       "<pre>--------------------------------------------------------</pre>"
      ],
      "text/plain": [
       "--------------------------------------------------------"
      ]
     },
     "metadata": {},
     "output_type": "display_data"
    },
    {
     "data": {
      "text/html": [
       "<pre>Number of examples          : 17384</pre>"
      ],
      "text/plain": [
       "Number of examples          : 17384"
      ]
     },
     "metadata": {},
     "output_type": "display_data"
    },
    {
     "data": {
      "text/html": [
       "<pre>Number of features          : 18</pre>"
      ],
      "text/plain": [
       "Number of features          : 18"
      ]
     },
     "metadata": {},
     "output_type": "display_data"
    },
    {
     "data": {
      "text/html": [
       "<pre>Number of unpacked features : 18</pre>"
      ],
      "text/plain": [
       "Number of unpacked features : 18"
      ]
     },
     "metadata": {},
     "output_type": "display_data"
    },
    {
     "data": {
      "text/html": [
       "<pre>Number of coefficients    : 127</pre>"
      ],
      "text/plain": [
       "Number of coefficients    : 127"
      ]
     },
     "metadata": {},
     "output_type": "display_data"
    },
    {
     "data": {
      "text/html": [
       "<pre>Starting Newton Method</pre>"
      ],
      "text/plain": [
       "Starting Newton Method"
      ]
     },
     "metadata": {},
     "output_type": "display_data"
    },
    {
     "data": {
      "text/html": [
       "<pre>--------------------------------------------------------</pre>"
      ],
      "text/plain": [
       "--------------------------------------------------------"
      ]
     },
     "metadata": {},
     "output_type": "display_data"
    },
    {
     "data": {
      "text/html": [
       "<pre>+-----------+----------+--------------+--------------------+---------------+</pre>"
      ],
      "text/plain": [
       "+-----------+----------+--------------+--------------------+---------------+"
      ]
     },
     "metadata": {},
     "output_type": "display_data"
    },
    {
     "data": {
      "text/html": [
       "<pre>| Iteration | Passes   | Elapsed Time | Training-max_error | Training-rmse |</pre>"
      ],
      "text/plain": [
       "| Iteration | Passes   | Elapsed Time | Training-max_error | Training-rmse |"
      ]
     },
     "metadata": {},
     "output_type": "display_data"
    },
    {
     "data": {
      "text/html": [
       "<pre>+-----------+----------+--------------+--------------------+---------------+</pre>"
      ],
      "text/plain": [
       "+-----------+----------+--------------+--------------------+---------------+"
      ]
     },
     "metadata": {},
     "output_type": "display_data"
    },
    {
     "data": {
      "text/html": [
       "<pre>| 1         | 2        | 0.068103     | 3469012.450686     | 154580.940736 |</pre>"
      ],
      "text/plain": [
       "| 1         | 2        | 0.068103     | 3469012.450686     | 154580.940736 |"
      ]
     },
     "metadata": {},
     "output_type": "display_data"
    },
    {
     "data": {
      "text/html": [
       "<pre>+-----------+----------+--------------+--------------------+---------------+</pre>"
      ],
      "text/plain": [
       "+-----------+----------+--------------+--------------------+---------------+"
      ]
     },
     "metadata": {},
     "output_type": "display_data"
    },
    {
     "data": {
      "text/html": [
       "<pre>SUCCESS: Optimal solution found.</pre>"
      ],
      "text/plain": [
       "SUCCESS: Optimal solution found."
      ]
     },
     "metadata": {},
     "output_type": "display_data"
    },
    {
     "data": {
      "text/html": [
       "<pre></pre>"
      ],
      "text/plain": []
     },
     "metadata": {},
     "output_type": "display_data"
    }
   ],
   "source": [
    "advanced_features_model = graphlab.linear_regression.create(train_data,target='price',features=advanced_features, validation_set=None)"
   ]
  },
  {
   "cell_type": "markdown",
   "metadata": {},
   "source": [
    "## Comparing the results of the simple model with adding more features"
   ]
  },
  {
   "cell_type": "code",
   "execution_count": 25,
   "metadata": {
    "collapsed": false
   },
   "outputs": [
    {
     "name": "stdout",
     "output_type": "stream",
     "text": [
      "{'max_error': 4143550.8825285938, 'rmse': 255191.02870527358}\n",
      "{'max_error': 3486584.509381705, 'rmse': 179542.4333126903}\n",
      "{'max_error': 3556849.413858208, 'rmse': 156831.1168021901}\n"
     ]
    }
   ],
   "source": [
    "print sqft_model.evaluate(test_data)\n",
    "print my_features_model.evaluate(test_data)\n",
    "print advanced_features_model.evaluate(test_data)"
   ]
  },
  {
   "cell_type": "markdown",
   "metadata": {},
   "source": [
    "The RMSE goes down from \\$255,170 to \\$179,508 with more features."
   ]
  },
  {
   "cell_type": "markdown",
   "metadata": {},
   "source": [
    "# Apply learned models to predict prices of 3 houses"
   ]
  },
  {
   "cell_type": "markdown",
   "metadata": {},
   "source": [
    "The first house we will use is considered an \"average\" house in Seattle. "
   ]
  },
  {
   "cell_type": "code",
   "execution_count": 26,
   "metadata": {
    "collapsed": true
   },
   "outputs": [],
   "source": [
    "house1 = sales[sales['id']=='5309101200']"
   ]
  },
  {
   "cell_type": "code",
   "execution_count": 27,
   "metadata": {
    "collapsed": false
   },
   "outputs": [
    {
     "data": {
      "text/html": [
       "<div style=\"max-height:1000px;max-width:1500px;overflow:auto;\"><table frame=\"box\" rules=\"cols\">\n",
       "    <tr>\n",
       "        <th style=\"padding-left: 1em; padding-right: 1em; text-align: center\">id</th>\n",
       "        <th style=\"padding-left: 1em; padding-right: 1em; text-align: center\">date</th>\n",
       "        <th style=\"padding-left: 1em; padding-right: 1em; text-align: center\">price</th>\n",
       "        <th style=\"padding-left: 1em; padding-right: 1em; text-align: center\">bedrooms</th>\n",
       "        <th style=\"padding-left: 1em; padding-right: 1em; text-align: center\">bathrooms</th>\n",
       "        <th style=\"padding-left: 1em; padding-right: 1em; text-align: center\">sqft_living</th>\n",
       "        <th style=\"padding-left: 1em; padding-right: 1em; text-align: center\">sqft_lot</th>\n",
       "        <th style=\"padding-left: 1em; padding-right: 1em; text-align: center\">floors</th>\n",
       "        <th style=\"padding-left: 1em; padding-right: 1em; text-align: center\">waterfront</th>\n",
       "    </tr>\n",
       "    <tr>\n",
       "        <td style=\"padding-left: 1em; padding-right: 1em; text-align: center; vertical-align: top\">5309101200</td>\n",
       "        <td style=\"padding-left: 1em; padding-right: 1em; text-align: center; vertical-align: top\">2014-06-05 00:00:00+00:00</td>\n",
       "        <td style=\"padding-left: 1em; padding-right: 1em; text-align: center; vertical-align: top\">620000</td>\n",
       "        <td style=\"padding-left: 1em; padding-right: 1em; text-align: center; vertical-align: top\">4</td>\n",
       "        <td style=\"padding-left: 1em; padding-right: 1em; text-align: center; vertical-align: top\">2.25</td>\n",
       "        <td style=\"padding-left: 1em; padding-right: 1em; text-align: center; vertical-align: top\">2400</td>\n",
       "        <td style=\"padding-left: 1em; padding-right: 1em; text-align: center; vertical-align: top\">5350</td>\n",
       "        <td style=\"padding-left: 1em; padding-right: 1em; text-align: center; vertical-align: top\">1.5</td>\n",
       "        <td style=\"padding-left: 1em; padding-right: 1em; text-align: center; vertical-align: top\">0</td>\n",
       "    </tr>\n",
       "</table>\n",
       "<table frame=\"box\" rules=\"cols\">\n",
       "    <tr>\n",
       "        <th style=\"padding-left: 1em; padding-right: 1em; text-align: center\">view</th>\n",
       "        <th style=\"padding-left: 1em; padding-right: 1em; text-align: center\">condition</th>\n",
       "        <th style=\"padding-left: 1em; padding-right: 1em; text-align: center\">grade</th>\n",
       "        <th style=\"padding-left: 1em; padding-right: 1em; text-align: center\">sqft_above</th>\n",
       "        <th style=\"padding-left: 1em; padding-right: 1em; text-align: center\">sqft_basement</th>\n",
       "        <th style=\"padding-left: 1em; padding-right: 1em; text-align: center\">yr_built</th>\n",
       "        <th style=\"padding-left: 1em; padding-right: 1em; text-align: center\">yr_renovated</th>\n",
       "        <th style=\"padding-left: 1em; padding-right: 1em; text-align: center\">zipcode</th>\n",
       "        <th style=\"padding-left: 1em; padding-right: 1em; text-align: center\">lat</th>\n",
       "    </tr>\n",
       "    <tr>\n",
       "        <td style=\"padding-left: 1em; padding-right: 1em; text-align: center; vertical-align: top\">0</td>\n",
       "        <td style=\"padding-left: 1em; padding-right: 1em; text-align: center; vertical-align: top\">4</td>\n",
       "        <td style=\"padding-left: 1em; padding-right: 1em; text-align: center; vertical-align: top\">7</td>\n",
       "        <td style=\"padding-left: 1em; padding-right: 1em; text-align: center; vertical-align: top\">1460</td>\n",
       "        <td style=\"padding-left: 1em; padding-right: 1em; text-align: center; vertical-align: top\">940</td>\n",
       "        <td style=\"padding-left: 1em; padding-right: 1em; text-align: center; vertical-align: top\">1929</td>\n",
       "        <td style=\"padding-left: 1em; padding-right: 1em; text-align: center; vertical-align: top\">0</td>\n",
       "        <td style=\"padding-left: 1em; padding-right: 1em; text-align: center; vertical-align: top\">98117</td>\n",
       "        <td style=\"padding-left: 1em; padding-right: 1em; text-align: center; vertical-align: top\">47.67632376</td>\n",
       "    </tr>\n",
       "</table>\n",
       "<table frame=\"box\" rules=\"cols\">\n",
       "    <tr>\n",
       "        <th style=\"padding-left: 1em; padding-right: 1em; text-align: center\">long</th>\n",
       "        <th style=\"padding-left: 1em; padding-right: 1em; text-align: center\">sqft_living15</th>\n",
       "        <th style=\"padding-left: 1em; padding-right: 1em; text-align: center\">sqft_lot15</th>\n",
       "    </tr>\n",
       "    <tr>\n",
       "        <td style=\"padding-left: 1em; padding-right: 1em; text-align: center; vertical-align: top\">-122.37010126</td>\n",
       "        <td style=\"padding-left: 1em; padding-right: 1em; text-align: center; vertical-align: top\">1250.0</td>\n",
       "        <td style=\"padding-left: 1em; padding-right: 1em; text-align: center; vertical-align: top\">4880.0</td>\n",
       "    </tr>\n",
       "</table>\n",
       "[? rows x 21 columns]<br/>Note: Only the head of the SFrame is printed. This SFrame is lazily evaluated.<br/>You can use sf.materialize() to force materialization.\n",
       "</div>"
      ],
      "text/plain": [
       "Columns:\n",
       "\tid\tstr\n",
       "\tdate\tdatetime\n",
       "\tprice\tint\n",
       "\tbedrooms\tstr\n",
       "\tbathrooms\tstr\n",
       "\tsqft_living\tint\n",
       "\tsqft_lot\tint\n",
       "\tfloors\tstr\n",
       "\twaterfront\tint\n",
       "\tview\tint\n",
       "\tcondition\tint\n",
       "\tgrade\tint\n",
       "\tsqft_above\tint\n",
       "\tsqft_basement\tint\n",
       "\tyr_built\tint\n",
       "\tyr_renovated\tint\n",
       "\tzipcode\tstr\n",
       "\tlat\tfloat\n",
       "\tlong\tfloat\n",
       "\tsqft_living15\tfloat\n",
       "\tsqft_lot15\tfloat\n",
       "\n",
       "Rows: Unknown\n",
       "\n",
       "Data:\n",
       "+------------+---------------------------+--------+----------+-----------+-------------+\n",
       "|     id     |            date           | price  | bedrooms | bathrooms | sqft_living |\n",
       "+------------+---------------------------+--------+----------+-----------+-------------+\n",
       "| 5309101200 | 2014-06-05 00:00:00+00:00 | 620000 |    4     |    2.25   |     2400    |\n",
       "+------------+---------------------------+--------+----------+-----------+-------------+\n",
       "+----------+--------+------------+------+-----------+-------+------------+---------------+\n",
       "| sqft_lot | floors | waterfront | view | condition | grade | sqft_above | sqft_basement |\n",
       "+----------+--------+------------+------+-----------+-------+------------+---------------+\n",
       "|   5350   |  1.5   |     0      |  0   |     4     |   7   |    1460    |      940      |\n",
       "+----------+--------+------------+------+-----------+-------+------------+---------------+\n",
       "+----------+--------------+---------+-------------+---------------+---------------+-----+\n",
       "| yr_built | yr_renovated | zipcode |     lat     |      long     | sqft_living15 | ... |\n",
       "+----------+--------------+---------+-------------+---------------+---------------+-----+\n",
       "|   1929   |      0       |  98117  | 47.67632376 | -122.37010126 |     1250.0    | ... |\n",
       "+----------+--------------+---------+-------------+---------------+---------------+-----+\n",
       "[? rows x 21 columns]\n",
       "Note: Only the head of the SFrame is printed. This SFrame is lazily evaluated.\n",
       "You can use sf.materialize() to force materialization."
      ]
     },
     "execution_count": 27,
     "metadata": {},
     "output_type": "execute_result"
    }
   ],
   "source": [
    "house1"
   ]
  },
  {
   "cell_type": "markdown",
   "metadata": {},
   "source": [
    "<img src=\"http://info.kingcounty.gov/Assessor/eRealProperty/MediaHandler.aspx?Media=2916871\">"
   ]
  },
  {
   "cell_type": "code",
   "execution_count": 28,
   "metadata": {
    "collapsed": false
   },
   "outputs": [
    {
     "name": "stdout",
     "output_type": "stream",
     "text": [
      "[620000L, ... ]\n"
     ]
    }
   ],
   "source": [
    "print house1['price']"
   ]
  },
  {
   "cell_type": "code",
   "execution_count": 29,
   "metadata": {
    "collapsed": false
   },
   "outputs": [
    {
     "name": "stdout",
     "output_type": "stream",
     "text": [
      "[629584.8197281545]\n"
     ]
    }
   ],
   "source": [
    "print sqft_model.predict(house1)"
   ]
  },
  {
   "cell_type": "code",
   "execution_count": 30,
   "metadata": {
    "collapsed": false
   },
   "outputs": [
    {
     "name": "stdout",
     "output_type": "stream",
     "text": [
      "[721918.9333272863]\n"
     ]
    }
   ],
   "source": [
    "print my_features_model.predict(house1)"
   ]
  },
  {
   "cell_type": "markdown",
   "metadata": {},
   "source": [
    "In this case, the model with more features provides a worse prediction than the simpler model with only 1 feature.  However, on average, the model with more features is better."
   ]
  },
  {
   "cell_type": "markdown",
   "metadata": {},
   "source": [
    "## Prediction for a second, fancier house\n",
    "\n",
    "We will now examine the predictions for a fancier house."
   ]
  },
  {
   "cell_type": "code",
   "execution_count": 31,
   "metadata": {
    "collapsed": true
   },
   "outputs": [],
   "source": [
    "house2 = sales[sales['id']=='1925069082']"
   ]
  },
  {
   "cell_type": "code",
   "execution_count": 32,
   "metadata": {
    "collapsed": false
   },
   "outputs": [
    {
     "data": {
      "text/html": [
       "<div style=\"max-height:1000px;max-width:1500px;overflow:auto;\"><table frame=\"box\" rules=\"cols\">\n",
       "    <tr>\n",
       "        <th style=\"padding-left: 1em; padding-right: 1em; text-align: center\">id</th>\n",
       "        <th style=\"padding-left: 1em; padding-right: 1em; text-align: center\">date</th>\n",
       "        <th style=\"padding-left: 1em; padding-right: 1em; text-align: center\">price</th>\n",
       "        <th style=\"padding-left: 1em; padding-right: 1em; text-align: center\">bedrooms</th>\n",
       "        <th style=\"padding-left: 1em; padding-right: 1em; text-align: center\">bathrooms</th>\n",
       "        <th style=\"padding-left: 1em; padding-right: 1em; text-align: center\">sqft_living</th>\n",
       "        <th style=\"padding-left: 1em; padding-right: 1em; text-align: center\">sqft_lot</th>\n",
       "        <th style=\"padding-left: 1em; padding-right: 1em; text-align: center\">floors</th>\n",
       "        <th style=\"padding-left: 1em; padding-right: 1em; text-align: center\">waterfront</th>\n",
       "    </tr>\n",
       "    <tr>\n",
       "        <td style=\"padding-left: 1em; padding-right: 1em; text-align: center; vertical-align: top\">1925069082</td>\n",
       "        <td style=\"padding-left: 1em; padding-right: 1em; text-align: center; vertical-align: top\">2015-05-11 00:00:00+00:00</td>\n",
       "        <td style=\"padding-left: 1em; padding-right: 1em; text-align: center; vertical-align: top\">2200000</td>\n",
       "        <td style=\"padding-left: 1em; padding-right: 1em; text-align: center; vertical-align: top\">5</td>\n",
       "        <td style=\"padding-left: 1em; padding-right: 1em; text-align: center; vertical-align: top\">4.25</td>\n",
       "        <td style=\"padding-left: 1em; padding-right: 1em; text-align: center; vertical-align: top\">4640</td>\n",
       "        <td style=\"padding-left: 1em; padding-right: 1em; text-align: center; vertical-align: top\">22703</td>\n",
       "        <td style=\"padding-left: 1em; padding-right: 1em; text-align: center; vertical-align: top\">2</td>\n",
       "        <td style=\"padding-left: 1em; padding-right: 1em; text-align: center; vertical-align: top\">1</td>\n",
       "    </tr>\n",
       "</table>\n",
       "<table frame=\"box\" rules=\"cols\">\n",
       "    <tr>\n",
       "        <th style=\"padding-left: 1em; padding-right: 1em; text-align: center\">view</th>\n",
       "        <th style=\"padding-left: 1em; padding-right: 1em; text-align: center\">condition</th>\n",
       "        <th style=\"padding-left: 1em; padding-right: 1em; text-align: center\">grade</th>\n",
       "        <th style=\"padding-left: 1em; padding-right: 1em; text-align: center\">sqft_above</th>\n",
       "        <th style=\"padding-left: 1em; padding-right: 1em; text-align: center\">sqft_basement</th>\n",
       "        <th style=\"padding-left: 1em; padding-right: 1em; text-align: center\">yr_built</th>\n",
       "        <th style=\"padding-left: 1em; padding-right: 1em; text-align: center\">yr_renovated</th>\n",
       "        <th style=\"padding-left: 1em; padding-right: 1em; text-align: center\">zipcode</th>\n",
       "        <th style=\"padding-left: 1em; padding-right: 1em; text-align: center\">lat</th>\n",
       "    </tr>\n",
       "    <tr>\n",
       "        <td style=\"padding-left: 1em; padding-right: 1em; text-align: center; vertical-align: top\">4</td>\n",
       "        <td style=\"padding-left: 1em; padding-right: 1em; text-align: center; vertical-align: top\">5</td>\n",
       "        <td style=\"padding-left: 1em; padding-right: 1em; text-align: center; vertical-align: top\">8</td>\n",
       "        <td style=\"padding-left: 1em; padding-right: 1em; text-align: center; vertical-align: top\">2860</td>\n",
       "        <td style=\"padding-left: 1em; padding-right: 1em; text-align: center; vertical-align: top\">1780</td>\n",
       "        <td style=\"padding-left: 1em; padding-right: 1em; text-align: center; vertical-align: top\">1952</td>\n",
       "        <td style=\"padding-left: 1em; padding-right: 1em; text-align: center; vertical-align: top\">0</td>\n",
       "        <td style=\"padding-left: 1em; padding-right: 1em; text-align: center; vertical-align: top\">98052</td>\n",
       "        <td style=\"padding-left: 1em; padding-right: 1em; text-align: center; vertical-align: top\">47.63925783</td>\n",
       "    </tr>\n",
       "</table>\n",
       "<table frame=\"box\" rules=\"cols\">\n",
       "    <tr>\n",
       "        <th style=\"padding-left: 1em; padding-right: 1em; text-align: center\">long</th>\n",
       "        <th style=\"padding-left: 1em; padding-right: 1em; text-align: center\">sqft_living15</th>\n",
       "        <th style=\"padding-left: 1em; padding-right: 1em; text-align: center\">sqft_lot15</th>\n",
       "    </tr>\n",
       "    <tr>\n",
       "        <td style=\"padding-left: 1em; padding-right: 1em; text-align: center; vertical-align: top\">-122.09722322</td>\n",
       "        <td style=\"padding-left: 1em; padding-right: 1em; text-align: center; vertical-align: top\">3140.0</td>\n",
       "        <td style=\"padding-left: 1em; padding-right: 1em; text-align: center; vertical-align: top\">14200.0</td>\n",
       "    </tr>\n",
       "</table>\n",
       "[? rows x 21 columns]<br/>Note: Only the head of the SFrame is printed. This SFrame is lazily evaluated.<br/>You can use sf.materialize() to force materialization.\n",
       "</div>"
      ],
      "text/plain": [
       "Columns:\n",
       "\tid\tstr\n",
       "\tdate\tdatetime\n",
       "\tprice\tint\n",
       "\tbedrooms\tstr\n",
       "\tbathrooms\tstr\n",
       "\tsqft_living\tint\n",
       "\tsqft_lot\tint\n",
       "\tfloors\tstr\n",
       "\twaterfront\tint\n",
       "\tview\tint\n",
       "\tcondition\tint\n",
       "\tgrade\tint\n",
       "\tsqft_above\tint\n",
       "\tsqft_basement\tint\n",
       "\tyr_built\tint\n",
       "\tyr_renovated\tint\n",
       "\tzipcode\tstr\n",
       "\tlat\tfloat\n",
       "\tlong\tfloat\n",
       "\tsqft_living15\tfloat\n",
       "\tsqft_lot15\tfloat\n",
       "\n",
       "Rows: Unknown\n",
       "\n",
       "Data:\n",
       "+------------+---------------------------+---------+----------+-----------+-------------+\n",
       "|     id     |            date           |  price  | bedrooms | bathrooms | sqft_living |\n",
       "+------------+---------------------------+---------+----------+-----------+-------------+\n",
       "| 1925069082 | 2015-05-11 00:00:00+00:00 | 2200000 |    5     |    4.25   |     4640    |\n",
       "+------------+---------------------------+---------+----------+-----------+-------------+\n",
       "+----------+--------+------------+------+-----------+-------+------------+---------------+\n",
       "| sqft_lot | floors | waterfront | view | condition | grade | sqft_above | sqft_basement |\n",
       "+----------+--------+------------+------+-----------+-------+------------+---------------+\n",
       "|  22703   |   2    |     1      |  4   |     5     |   8   |    2860    |      1780     |\n",
       "+----------+--------+------------+------+-----------+-------+------------+---------------+\n",
       "+----------+--------------+---------+-------------+---------------+---------------+-----+\n",
       "| yr_built | yr_renovated | zipcode |     lat     |      long     | sqft_living15 | ... |\n",
       "+----------+--------------+---------+-------------+---------------+---------------+-----+\n",
       "|   1952   |      0       |  98052  | 47.63925783 | -122.09722322 |     3140.0    | ... |\n",
       "+----------+--------------+---------+-------------+---------------+---------------+-----+\n",
       "[? rows x 21 columns]\n",
       "Note: Only the head of the SFrame is printed. This SFrame is lazily evaluated.\n",
       "You can use sf.materialize() to force materialization."
      ]
     },
     "execution_count": 32,
     "metadata": {},
     "output_type": "execute_result"
    }
   ],
   "source": [
    "house2"
   ]
  },
  {
   "cell_type": "markdown",
   "metadata": {},
   "source": [
    "<img src=\"https://ssl.cdn-redfin.com/photo/1/bigphoto/302/734302_0.jpg\">"
   ]
  },
  {
   "cell_type": "code",
   "execution_count": 33,
   "metadata": {
    "collapsed": false
   },
   "outputs": [
    {
     "name": "stdout",
     "output_type": "stream",
     "text": [
      "[1261170.404099968]\n"
     ]
    }
   ],
   "source": [
    "print sqft_model.predict(house2)"
   ]
  },
  {
   "cell_type": "code",
   "execution_count": 34,
   "metadata": {
    "collapsed": false
   },
   "outputs": [
    {
     "name": "stdout",
     "output_type": "stream",
     "text": [
      "[1446472.4690774973]\n"
     ]
    }
   ],
   "source": [
    "print my_features_model.predict(house2)"
   ]
  },
  {
   "cell_type": "markdown",
   "metadata": {},
   "source": [
    "In this case, the model with more features provides a better prediction.  This behavior is expected here, because this house is more differentiated by features that go beyond its square feet of living space, especially the fact that it's a waterfront house. "
   ]
  },
  {
   "cell_type": "markdown",
   "metadata": {},
   "source": [
    "## Last house, super fancy\n",
    "\n",
    "Our last house is a very large one owned by a famous Seattleite."
   ]
  },
  {
   "cell_type": "code",
   "execution_count": 37,
   "metadata": {
    "collapsed": true
   },
   "outputs": [],
   "source": [
    "bill_gates = {'bedrooms':[8], \n",
    "              'bathrooms':[25], \n",
    "              'sqft_living':[50000], \n",
    "              'sqft_lot':[225000],\n",
    "              'floors':[4], \n",
    "              'zipcode':['98039'], \n",
    "              'condition':[10], \n",
    "              'grade':[10],\n",
    "              'waterfront':[1],\n",
    "              'view':[4],\n",
    "              'sqft_above':[37500],\n",
    "              'sqft_basement':[12500],\n",
    "              'yr_built':[1994],\n",
    "              'yr_renovated':[2010],\n",
    "              'lat':[47.627606],\n",
    "              'long':[-122.242054],\n",
    "              'sqft_living15':[5000],\n",
    "              'sqft_lot15':[40000]}"
   ]
  },
  {
   "cell_type": "markdown",
   "metadata": {},
   "source": [
    "<img src=\"https://upload.wikimedia.org/wikipedia/commons/thumb/d/d9/Bill_gates%27_house.jpg/2560px-Bill_gates%27_house.jpg\">"
   ]
  },
  {
   "cell_type": "code",
   "execution_count": 36,
   "metadata": {
    "collapsed": false
   },
   "outputs": [
    {
     "name": "stdout",
     "output_type": "stream",
     "text": [
      "[13749825.525719076]\n"
     ]
    }
   ],
   "source": [
    "print my_features_model.predict(graphlab.SFrame(bill_gates))"
   ]
  },
  {
   "cell_type": "markdown",
   "metadata": {
    "collapsed": true
   },
   "source": [
    "The model predicts a price of over $13M for this house! But we expect the house to cost much more.  (There are very few samples in the dataset of houses that are this fancy, so we don't expect the model to capture a perfect prediction here.)"
   ]
  },
  {
   "cell_type": "code",
   "execution_count": null,
   "metadata": {
    "collapsed": true
   },
   "outputs": [],
   "source": []
  }
 ],
 "metadata": {
  "kernelspec": {
   "display_name": "Python 2",
   "language": "python",
   "name": "python2"
  },
  "language_info": {
   "codemirror_mode": {
    "name": "ipython",
    "version": 2
   },
   "file_extension": ".py",
   "mimetype": "text/x-python",
   "name": "python",
   "nbconvert_exporter": "python",
   "pygments_lexer": "ipython2",
   "version": "2.7.12"
  }
 },
 "nbformat": 4,
 "nbformat_minor": 0
}
